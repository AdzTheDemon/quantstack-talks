{
 "cells": [
  {
   "cell_type": "markdown",
   "metadata": {
    "slideshow": {
     "slide_type": "slide"
    }
   },
   "source": [
    "<img src=\"src/xtensor.png\" />\n",
    "\n",
    "The lazy Tensor Algebra Expression Library"
   ]
  },
  {
   "cell_type": "markdown",
   "metadata": {
    "slideshow": {
     "slide_type": "subslide"
    }
   },
   "source": [
    "# Who we are\n",
    "\n",
    "QuantStack - a small Open Source software consultancy in Paris\n",
    "\n",
    "<img src=\"src/us.png\" style=\"margin: 0 auto;\" />"
   ]
  },
  {
   "cell_type": "code",
   "execution_count": 4,
   "metadata": {
    "slideshow": {
     "slide_type": "slide"
    }
   },
   "outputs": [
    {
     "name": "stdout",
     "output_type": "stream",
     "text": [
      "Hello derse19!\n"
     ]
    }
   ],
   "source": [
    "#include <iostream>\n",
    "\n",
    "std::cout << \"Hello derse19!\" << std::endl;"
   ]
  },
  {
   "cell_type": "markdown",
   "metadata": {
    "slideshow": {
     "slide_type": "subslide"
    }
   },
   "source": [
    "# N-D arrays are everywhere\n",
    "\n",
    "- ... except for C++\n",
    "- Basic building block of data science\n",
    "- Images, Videos, Music, Point Clouds – all are expressed as N-dimensional data"
   ]
  },
  {
   "cell_type": "markdown",
   "metadata": {
    "slideshow": {
     "slide_type": "subslide"
    }
   },
   "source": [
    "<img src=\"src/xtensor.png\" width=\"500px\" />\n",
    "\n",
    "- n-dimensional array computing library\n",
    "- Support for lazy computation, broadcasting \n",
    "- C++14\n",
    "- API close to NumPy\n",
    "- Online demo: https://mybinder.org/v2/gh/QuantStack/xtensor/stable?filepath=notebooks/xtensor.ipynb"
   ]
  },
  {
   "cell_type": "code",
   "execution_count": 5,
   "metadata": {
    "slideshow": {
     "slide_type": "subslide"
    }
   },
   "outputs": [
    {
     "name": "stdout",
     "output_type": "stream",
     "text": [
      "{{ 1.,  2.,  3.},\n",
      " { 4.,  5.,  6.}}\n"
     ]
    }
   ],
   "source": [
    "#include <xtensor/xio.hpp>\n",
    "#include <xtensor/xarray.hpp>\n",
    "\n",
    "xt::xarray<double> a = {{1,2,3}, {4,5,6}};\n",
    "\n",
    "std::cout << a << std::endl;"
   ]
  },
  {
   "cell_type": "markdown",
   "metadata": {
    "slideshow": {
     "slide_type": "subslide"
    }
   },
   "source": [
    "### STL interface"
   ]
  },
  {
   "cell_type": "code",
   "execution_count": 6,
   "metadata": {
    "slideshow": {
     "slide_type": "-"
    }
   },
   "outputs": [
    {
     "name": "stdout",
     "output_type": "stream",
     "text": [
      "1\n",
      "2\n",
      "3\n",
      "4\n",
      "5\n",
      "6\n"
     ]
    }
   ],
   "source": [
    "for (auto& el : a)\n",
    "{\n",
    "    std::cout << el << std::endl;\n",
    "}"
   ]
  },
  {
   "cell_type": "code",
   "execution_count": 7,
   "metadata": {
    "slideshow": {
     "slide_type": "fragment"
    }
   },
   "outputs": [
    {
     "name": "stdout",
     "output_type": "stream",
     "text": [
      "{{  1.,  10.,   3.},\n",
      " {  4.,   5.,   6.}}\n"
     ]
    }
   ],
   "source": [
    "a(0, 1) = 10;\n",
    "\n",
    "std::cout << a << std::endl;"
   ]
  },
  {
   "cell_type": "code",
   "execution_count": 8,
   "metadata": {
    "slideshow": {
     "slide_type": "subslide"
    }
   },
   "outputs": [
    {
     "name": "stdout",
     "output_type": "stream",
     "text": [
      "{{  1.,   3.,   4.},\n",
      " {  5.,   6.,  10.}}\n"
     ]
    }
   ],
   "source": [
    "std::sort(a.begin(), a.end());\n",
    "\n",
    "std::cout << a << std::endl;"
   ]
  },
  {
   "cell_type": "code",
   "execution_count": 9,
   "metadata": {},
   "outputs": [
    {
     "name": "stdout",
     "output_type": "stream",
     "text": [
      "{{  1.,   5.},\n",
      " {  3.,   6.},\n",
      " {  4.,  10.}}\n"
     ]
    }
   ],
   "source": [
    "std::cout << xt::transpose(a) << std::endl;"
   ]
  },
  {
   "cell_type": "code",
   "execution_count": 10,
   "metadata": {},
   "outputs": [
    {
     "name": "stdout",
     "output_type": "stream",
     "text": [
      "{{{{  1.},\n",
      "   {  3.},\n",
      "   {  4.},\n",
      "   {  5.},\n",
      "   {  6.},\n",
      "   { 10.}}}}\n"
     ]
    }
   ],
   "source": [
    "a.reshape({1, 1, 6, 1});\n",
    "\n",
    "std::cout << a << std::endl;"
   ]
  },
  {
   "cell_type": "code",
   "execution_count": 11,
   "metadata": {},
   "outputs": [],
   "source": [
    "a.reshape({2, 3});"
   ]
  },
  {
   "cell_type": "markdown",
   "metadata": {
    "slideshow": {
     "slide_type": "subslide"
    }
   },
   "source": [
    "### Functions"
   ]
  },
  {
   "cell_type": "code",
   "execution_count": 12,
   "metadata": {
    "slideshow": {
     "slide_type": "-"
    }
   },
   "outputs": [
    {
     "name": "stdout",
     "output_type": "stream",
     "text": [
      "{{ 1.682942,  0.28224 , -1.513605},\n",
      " {-1.917849, -0.558831, -1.088042}}\n"
     ]
    }
   ],
   "source": [
    "auto xfunc = sin(a) * 2;\n",
    "\n",
    "std::cout << xfunc << std::endl;"
   ]
  },
  {
   "cell_type": "markdown",
   "metadata": {
    "slideshow": {
     "slide_type": "subslide"
    }
   },
   "source": [
    "### Expression Templates"
   ]
  },
  {
   "cell_type": "code",
   "execution_count": 13,
   "metadata": {
    "slideshow": {
     "slide_type": "-"
    }
   },
   "outputs": [],
   "source": [
    "template <class T>\n",
    "void print_type(T) { std::cout << __PRETTY_FUNCTION__ << std::endl; }"
   ]
  },
  {
   "cell_type": "code",
   "execution_count": 14,
   "metadata": {},
   "outputs": [
    {
     "name": "stdout",
     "output_type": "stream",
     "text": [
      "void print_type(T) [T = xt::xfunction<xt::detail::multiplies, xt::xfunction<xt::math::sin_fun, const xt::xarray_container<xt::uvector<double, std::allocator<double> >, xt::layout_type::row_major, xt::svector<unsigned long, 4, std::allocator<unsigned long>, true>, xt::xtensor_expression_tag> &>, xt::xscalar<int> >]\n"
     ]
    }
   ],
   "source": [
    "print_type(xfunc);"
   ]
  },
  {
   "cell_type": "code",
   "execution_count": 15,
   "metadata": {
    "slideshow": {
     "slide_type": "subslide"
    }
   },
   "outputs": [
    {
     "name": "stdout",
     "output_type": "stream",
     "text": [
      "0.28224\n"
     ]
    }
   ],
   "source": [
    "auto xfunc_el = xfunc(0, 1);\n",
    "std::cout << xfunc_el << std::endl;"
   ]
  },
  {
   "cell_type": "code",
   "execution_count": 16,
   "metadata": {},
   "outputs": [
    {
     "name": "stdout",
     "output_type": "stream",
     "text": [
      "{{ 1.682942,  0.28224 , -1.513605},\n",
      " {-1.917849, -0.558831, -1.088042}}\n"
     ]
    }
   ],
   "source": [
    "xt::xarray<double> xfunc_result = xfunc;\n",
    "\n",
    "std::cout << xfunc_result << std::endl;"
   ]
  },
  {
   "cell_type": "markdown",
   "metadata": {
    "slideshow": {
     "slide_type": "subslide"
    }
   },
   "source": [
    "# Broadcasting\n",
    "\n",
    "- Automagically extend operands to match shape\n",
    "- Broadcasting rules copied from NumPy"
   ]
  },
  {
   "cell_type": "markdown",
   "metadata": {
    "slideshow": {
     "slide_type": "subslide"
    }
   },
   "source": [
    "<img src=\"src/broadcasting.png\" />"
   ]
  },
  {
   "cell_type": "code",
   "execution_count": 17,
   "metadata": {
    "slideshow": {
     "slide_type": "subslide"
    }
   },
   "outputs": [
    {
     "name": "stdout",
     "output_type": "stream",
     "text": [
      "{{  1.,   3.,   4.},\n",
      " {  5.,   6.,  10.}}\n"
     ]
    }
   ],
   "source": [
    "std::cout << a << std::endl;"
   ]
  },
  {
   "cell_type": "code",
   "execution_count": 19,
   "metadata": {},
   "outputs": [
    {
     "name": "stderr",
     "output_type": "stream",
     "text": [
      "\u001b[1minput_line_29:2:21: \u001b[0m\u001b[0;1;31merror: \u001b[0m\u001b[1mredefinition of 'brcast'\u001b[0m\n",
      " xt::xarray<double> brcast = {-10, +1, -10};\n",
      "\u001b[0;1;32m                    ^\n",
      "\u001b[0m\u001b[1minput_line_27:3:20: \u001b[0m\u001b[0;1;30mnote: \u001b[0mprevious definition is here\u001b[0m\n",
      "xt::xarray<double> brcast = {-10, +1, -10};\n",
      "\u001b[0;1;32m                   ^\n",
      "\u001b[0m"
     ]
    },
    {
     "ename": "Interpreter Error",
     "evalue": "",
     "output_type": "error",
     "traceback": [
      "Interpreter Error: "
     ]
    }
   ],
   "source": [
    "xt::xarray<double> brcast = {-10, +1, -10};\n",
    "std::cout << brcast << std::endl;"
   ]
  },
  {
   "cell_type": "code",
   "execution_count": 18,
   "metadata": {},
   "outputs": [
    {
     "name": "stdout",
     "output_type": "stream",
     "text": [
      "{{ -10.,    3.,  -40.},\n",
      " { -50.,    6., -100.}}\n"
     ]
    }
   ],
   "source": [
    "std::cout << a * brcast << std::endl;"
   ]
  },
  {
   "cell_type": "markdown",
   "metadata": {
    "slideshow": {
     "slide_type": "subslide"
    }
   },
   "source": [
    "# Memory Layout\n",
    "\n",
    "- Freely choose row, column-major or custom strides"
   ]
  },
  {
   "cell_type": "code",
   "execution_count": 41,
   "metadata": {
    "slideshow": {
     "slide_type": "-"
    }
   },
   "outputs": [
    {
     "name": "stdout",
     "output_type": "stream",
     "text": [
      "{{ 1.,  2.,  3.},\n",
      " { 4.,  5.,  6.}}\n"
     ]
    }
   ],
   "source": [
    "xt::xarray<double, xt::layout_type::column_major> a_cm = {{1,2,3}, {4,5,6}};\n",
    "\n",
    "std::cout << a_cm << std::endl;"
   ]
  },
  {
   "cell_type": "markdown",
   "metadata": {
    "slideshow": {
     "slide_type": "subslide"
    }
   },
   "source": [
    "# Container optimizations"
   ]
  },
  {
   "cell_type": "code",
   "execution_count": 42,
   "metadata": {},
   "outputs": [
    {
     "name": "stdout",
     "output_type": "stream",
     "text": [
      "{{ 1.,  2.,  3.},\n",
      " { 4.,  5.,  6.}}\n"
     ]
    }
   ],
   "source": [
    "// uses a std::array for shape & strides\n",
    "#include <xtensor/xtensor.hpp>\n",
    "\n",
    "xt::xtensor<double, 2> b = {{1, 2, 3}, {4, 5, 6}};\n",
    "std::cout << b << std::endl;"
   ]
  },
  {
   "cell_type": "code",
   "execution_count": 43,
   "metadata": {},
   "outputs": [
    {
     "name": "stdout",
     "output_type": "stream",
     "text": [
      "{{ 1.,  2.,  3.},\n",
      " { 4.,  5.,  6.}}\n"
     ]
    }
   ],
   "source": [
    "// uses a fixed size container for data (std::array)\n",
    "// strides computed constexpr at compile time (no storage)\n",
    "#include <xtensor/xfixed.hpp>\n",
    "\n",
    "xt::xtensor_fixed<double, xt::xshape<2, 3>> c = {{1,2,3}, {4,5,6}};\n",
    "std::cout << c << std::endl;"
   ]
  },
  {
   "cell_type": "markdown",
   "metadata": {
    "slideshow": {
     "slide_type": "subslide"
    }
   },
   "source": [
    "# Views\n",
    "\n",
    "- powerful views to reference sub-arrays\n",
    "- compute shapes statically if possible"
   ]
  },
  {
   "cell_type": "markdown",
   "metadata": {
    "slideshow": {
     "slide_type": "subslide"
    }
   },
   "source": [
    "<img src=\"src/views1.png\" />"
   ]
  },
  {
   "cell_type": "markdown",
   "metadata": {
    "slideshow": {
     "slide_type": "subslide"
    }
   },
   "source": [
    "<img src=\"src/views2.png\" />"
   ]
  },
  {
   "cell_type": "code",
   "execution_count": 20,
   "metadata": {
    "slideshow": {
     "slide_type": "subslide"
    }
   },
   "outputs": [
    {
     "name": "stdout",
     "output_type": "stream",
     "text": [
      "{{  1.,   3.,   4.},\n",
      " {  5.,   6.,  10.}}\n"
     ]
    }
   ],
   "source": [
    "#include <xtensor/xview.hpp>\n",
    "#include <xtensor/xio.hpp>\n",
    "using namespace xt::placeholders;\n",
    "\n",
    "std::cout << a << std::endl;"
   ]
  },
  {
   "cell_type": "code",
   "execution_count": 21,
   "metadata": {},
   "outputs": [
    {
     "name": "stdout",
     "output_type": "stream",
     "text": [
      "{  5.,   6.,  10.}\n"
     ]
    }
   ],
   "source": [
    "std::cout << xt::view(a, 1, xt::all()) << std::endl;"
   ]
  },
  {
   "cell_type": "code",
   "execution_count": 22,
   "metadata": {},
   "outputs": [
    {
     "name": "stdout",
     "output_type": "stream",
     "text": [
      "{{  1.,   4.},\n",
      " {  5.,  10.}}\n"
     ]
    }
   ],
   "source": [
    "// numpy equivalent: a[:, ::2]\n",
    "std::cout << xt::view(a, xt::all(), xt::range(_, _, 2)) << std::endl;"
   ]
  },
  {
   "cell_type": "code",
   "execution_count": 23,
   "metadata": {
    "slideshow": {
     "slide_type": "subslide"
    }
   },
   "outputs": [
    {
     "name": "stdout",
     "output_type": "stream",
     "text": [
      "{{  100.,     3.,   400.},\n",
      " {  500.,     6.,  1000.}}\n"
     ]
    }
   ],
   "source": [
    "xt::view(a, xt::all(), xt::range(_, _, 2)) *= 100;\n",
    "\n",
    "std::cout << a << std::endl;"
   ]
  },
  {
   "cell_type": "code",
   "execution_count": 24,
   "metadata": {
    "slideshow": {
     "slide_type": "subslide"
    }
   },
   "outputs": [
    {
     "name": "stdout",
     "output_type": "stream",
     "text": [
      "{{  100.,     3.,   400.},\n",
      " {  500.,     6.,  1000.}}\n"
     ]
    }
   ],
   "source": [
    "std::cout << a << std::endl;"
   ]
  },
  {
   "cell_type": "code",
   "execution_count": 25,
   "metadata": {
    "slideshow": {
     "slide_type": "-"
    }
   },
   "outputs": [
    {
     "name": "stdout",
     "output_type": "stream",
     "text": [
      "{{ 100.,    3.,  400.},\n",
      " { 100.,    3.,  400.},\n",
      " { 100.,    3.,  400.}}\n"
     ]
    }
   ],
   "source": [
    "std::cout << xt::view(a, xt::keep(0, 0, 0) , xt::all()) << std::endl;"
   ]
  },
  {
   "cell_type": "markdown",
   "metadata": {
    "slideshow": {
     "slide_type": "subslide"
    }
   },
   "source": [
    "# Adapting a 1D container"
   ]
  },
  {
   "cell_type": "code",
   "execution_count": 26,
   "metadata": {
    "slideshow": {
     "slide_type": "-"
    }
   },
   "outputs": [],
   "source": [
    "#include <vector>\n",
    "#include <xtensor/xadapt.hpp>\n",
    "\n",
    "std::vector<double> vdata = {1, 2, 3, 4, 5, 6, 7, 8, 9};\n",
    "auto adapted_vdata = xt::adapt(vdata, {3, 3});"
   ]
  },
  {
   "cell_type": "code",
   "execution_count": 27,
   "metadata": {},
   "outputs": [
    {
     "name": "stdout",
     "output_type": "stream",
     "text": [
      "{{ 1.,  2.,  3.},\n",
      " { 4.,  5.,  6.},\n",
      " { 7.,  8.,  9.}}\n"
     ]
    }
   ],
   "source": [
    "std::cout << adapted_vdata << std::endl;"
   ]
  },
  {
   "cell_type": "code",
   "execution_count": 28,
   "metadata": {},
   "outputs": [
    {
     "data": {
      "text/plain": [
       "6"
      ]
     },
     "execution_count": 28,
     "metadata": {},
     "output_type": "execute_result"
    }
   ],
   "source": [
    "adapted_vdata(1, 2)"
   ]
  },
  {
   "cell_type": "code",
   "execution_count": 29,
   "metadata": {
    "slideshow": {
     "slide_type": "subslide"
    }
   },
   "outputs": [
    {
     "name": "stdout",
     "output_type": "stream",
     "text": [
      " 45.\n"
     ]
    }
   ],
   "source": [
    "#include <xtensor/xmath.hpp>\n",
    "\n",
    "std::cout << sum(adapted_vdata) << std::endl;"
   ]
  },
  {
   "cell_type": "code",
   "execution_count": 30,
   "metadata": {},
   "outputs": [
    {
     "name": "stdout",
     "output_type": "stream",
     "text": [
      "{  6.,  15.,  24.}\n"
     ]
    }
   ],
   "source": [
    "std::cout << sum(adapted_vdata, {1}) << std::endl;"
   ]
  },
  {
   "cell_type": "markdown",
   "metadata": {
    "slideshow": {
     "slide_type": "slide"
    }
   },
   "source": [
    "# NumPy to xtensor Cheatsheet\n",
    "\n",
    "<img src=\"src/cheatsheet.png\" style=\"float: right\" width=\"700px\"></img>\n",
    "\n",
    "Many functions that were not discussed:\n",
    "\n",
    "- More reducers: `mean`, `prod` ...\n",
    "- Accumulators: `cumsum`, `cumprod` ...\n",
    "- Random numbers, generators\n",
    "- Sorting, filtering\n",
    "- Optional (masked) values\n",
    "- NPY, CSV file format support\n",
    "\n",
    "https://xtensor.readthedocs.io/en/latest/numpy.html"
   ]
  },
  {
   "cell_type": "markdown",
   "metadata": {
    "slideshow": {
     "slide_type": "slide"
    }
   },
   "source": [
    "# xtensor\n",
    "\n",
    "- Modular sub-packages:\n",
    "    - xsimd: for SIMD vectorization support\n",
    "      (batch classes, hi-speed implementations of trigo, exp, ... functions) \n",
    "    - Intel TBB: parallelization\n",
    "- On top of xtensor:\n",
    "    - xtensor-blas: bindings to BLAS & LAPACK – matrix multiplication, inverse, svd, ...\n",
    "    - xtensor-io: image, sound, NPZ, HDF5, (soon video support)\n",
    "    - xtensor-fftw, xtensor-interpolate and more"
   ]
  },
  {
   "cell_type": "markdown",
   "metadata": {
    "slideshow": {
     "slide_type": "slide"
    }
   },
   "source": [
    "# xtensor as a building block\n",
    "\n",
    "<img src=\"src/pyjlr.png\" width=\"500px\" />\n",
    "\n",
    "- xtensor-python / julia / R\n",
    "- Seamlessly use arrays from each language\n",
    "- Better performance for dynamic languages"
   ]
  },
  {
   "cell_type": "markdown",
   "metadata": {
    "slideshow": {
     "slide_type": "subslide"
    }
   },
   "source": [
    "# Rayshading with xtensor\n",
    "\n",
    "<img src=\"src/xtensor_langs.png\" />"
   ]
  },
  {
   "cell_type": "markdown",
   "metadata": {
    "slideshow": {
     "slide_type": "subslide"
    }
   },
   "source": [
    "# Benchmarks\n",
    "\n",
    "- Standalone C++: 0.016s\n",
    "- Python + NumPy: 14.22s\n",
    "- Python + xtensor: 0.022s\n",
    "- Julia: 0.014s\n",
    "- Julia + xtensor: 0.014s\n",
    "- R: 9.905s\n",
    "- R + xtensor: 0.013s"
   ]
  },
  {
   "cell_type": "markdown",
   "metadata": {
    "slideshow": {
     "slide_type": "subslide"
    }
   },
   "source": [
    "# Thirdparty packages using xtensor\n",
    "\n",
    "- More and more packages adopting xtensor\n",
    "\n",
    "- C++: xtensor-fftw, xtensor-interpolate, tinydnn\n",
    "- Python: z5 (data format), cppcolormap\n",
    "- R: rray (broadcasting n-dim matrices for R!)"
   ]
  },
  {
   "cell_type": "markdown",
   "metadata": {
    "slideshow": {
     "slide_type": "subslide"
    }
   },
   "source": [
    "### Binding a Python / NumPy container\n",
    "\n",
    "```c++\n",
    "double sum_of_sines(xt::pyarray<double>& m)\n",
    "{\n",
    "    auto sines = xt::sin(m);  // sines does not actually hold values.\n",
    "    return std::accumulate(sines.begin(), sines.end(), 0.0);\n",
    "}\n",
    "\n",
    "PYBIND11_MODULE(xtensor_python_test, m)\n",
    "{\n",
    "    xt::import_numpy();\n",
    "    m.doc() = \"Test module for xtensor python bindings\";\n",
    "\n",
    "    m.def(\"sum_of_sines\", sum_of_sines, \"Sum the sines of the input values\");\n",
    "}\n",
    "```"
   ]
  },
  {
   "cell_type": "markdown",
   "metadata": {},
   "source": [
    "# Thanks\n",
    "\n",
    "Check out https://github.com/QuantStack/xtensor\n",
    "\n",
    "Follow on Twitter:\n",
    "\n",
    "- @JohanMabille\n",
    "- @wuoulf\n",
    "- @QuantStack\n"
   ]
  },
  {
   "cell_type": "markdown",
   "metadata": {
    "slideshow": {
     "slide_type": "slide"
    }
   },
   "source": [
    "# xtensor vs Blitz++\n",
    "\n",
    "- No runtime dimension container in Blitz (xarray)\n",
    "- Blitz++ unmaintained/dead\n",
    "- Legacy code, already broken with new compilers"
   ]
  },
  {
   "cell_type": "markdown",
   "metadata": {
    "slideshow": {
     "slide_type": "subslide"
    }
   },
   "source": [
    "# xtensor vs Eigen3\n",
    "\n",
    "- n-Dimensions from the start (Eigen has Tensor Module in /unsupported)\n",
    "- modularity vs monolithical Eigen\n",
    "- API subjectively \"nicer\", modern C++ features\n",
    "- extensibility (Python/Julia/R)"
   ]
  }
 ],
 "metadata": {
  "celltoolbar": "Slideshow",
  "kernelspec": {
   "display_name": "C++14",
   "language": "C++14",
   "name": "xcpp14"
  },
  "language_info": {
   "codemirror_mode": "text/x-c++src",
   "file_extension": ".cpp",
   "mimetype": "text/x-c++src",
   "name": "c++",
   "version": "-std=c++14"
  }
 },
 "nbformat": 4,
 "nbformat_minor": 2
}
