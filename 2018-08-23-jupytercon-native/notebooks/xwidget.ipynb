{
 "cells": [
  {
   "cell_type": "markdown",
   "metadata": {},
   "source": [
    "![xwidgets](../src/xwidgets.svg)"
   ]
  },
  {
   "cell_type": "markdown",
   "metadata": {},
   "source": [
    "<center> <h1>Widgets in C++ with xeus and cling</h1> </center>"
   ]
  },
  {
   "cell_type": "markdown",
   "metadata": {},
   "source": [
    "## Button widget"
   ]
  },
  {
   "cell_type": "code",
   "execution_count": null,
   "metadata": {},
   "outputs": [],
   "source": [
    "#include <iostream>\n",
    "#include \"xwidgets/xbutton.hpp\""
   ]
  },
  {
   "cell_type": "code",
   "execution_count": null,
   "metadata": {},
   "outputs": [],
   "source": [
    "xw::button button;"
   ]
  },
  {
   "cell_type": "code",
   "execution_count": null,
   "metadata": {},
   "outputs": [],
   "source": [
    "void foo()\n",
    "{\n",
    "    std::cout << \"Clicked!\" << std::endl;\n",
    "}"
   ]
  },
  {
   "cell_type": "code",
   "execution_count": null,
   "metadata": {},
   "outputs": [],
   "source": [
    "button.on_click(foo);\n",
    "    \n",
    "button.display()"
   ]
  },
  {
   "cell_type": "code",
   "execution_count": null,
   "metadata": {},
   "outputs": [],
   "source": [
    "button.description = \"button\";"
   ]
  },
  {
   "cell_type": "markdown",
   "metadata": {},
   "source": [
    "## Numerical input"
   ]
  },
  {
   "cell_type": "code",
   "execution_count": null,
   "metadata": {},
   "outputs": [],
   "source": [
    "#include \"xwidgets/xnumeral.hpp\""
   ]
  },
  {
   "cell_type": "code",
   "execution_count": null,
   "metadata": {},
   "outputs": [],
   "source": [
    "xw::numeral<double> numeral;\n",
    "numeral.display()"
   ]
  },
  {
   "cell_type": "code",
   "execution_count": null,
   "metadata": {},
   "outputs": [],
   "source": [
    "numeral.value = 4;"
   ]
  },
  {
   "cell_type": "code",
   "execution_count": null,
   "metadata": {},
   "outputs": [],
   "source": [
    "numeral.value()"
   ]
  },
  {
   "cell_type": "markdown",
   "metadata": {},
   "source": [
    "## Image"
   ]
  },
  {
   "cell_type": "code",
   "execution_count": null,
   "metadata": {},
   "outputs": [],
   "source": [
    "#include \"xwidgets/ximage.hpp\"\n",
    "#include \"xwidgets/xprogress.hpp\""
   ]
  },
  {
   "cell_type": "code",
   "execution_count": null,
   "metadata": {},
   "outputs": [],
   "source": [
    "auto input = xw::image_from_file(\"my_awesome_cat.jpg\").finalize();\n",
    "input"
   ]
  },
  {
   "cell_type": "markdown",
   "metadata": {},
   "source": [
    "![xtensor-fftw](../src/xtensor-fftw.svg)"
   ]
  },
  {
   "cell_type": "code",
   "execution_count": null,
   "metadata": {},
   "outputs": [],
   "source": [
    "#pragma cling(optimize, 3)\n",
    "\n",
    "#include <string>\n",
    "#include <fstream>\n",
    "#include <complex>\n",
    "\n",
    "#include \"xtl/xbase64.hpp\"\n",
    "\n",
    "#include \"xtensor/xarray.hpp\"\n",
    "#include \"xtensor/xview.hpp\"\n",
    "#include \"xtensor/xbuilder.hpp\"\n",
    "\n",
    "#include \"xtensor-io/ximage.hpp\"\n",
    "\n",
    "#include \"xtensor-fftw/basic.hpp\"\n",
    "#include \"xtensor-fftw/helper.hpp\""
   ]
  },
  {
   "cell_type": "code",
   "execution_count": null,
   "metadata": {},
   "outputs": [],
   "source": [
    "std::vector<char> read_file(const char* filename)\n",
    "{\n",
    "    std::basic_ifstream<char> file(filename, std::ios::binary);\n",
    "    return std::vector<char>((std::istreambuf_iterator<char>(file)), std::istreambuf_iterator<char>());\n",
    "}"
   ]
  },
  {
   "cell_type": "code",
   "execution_count": null,
   "metadata": {},
   "outputs": [],
   "source": [
    "template <class E>\n",
    "std::vector<char> to_png_buffer(const xt::xexpression<E>& e)\n",
    "{\n",
    "    const char* temp_filename = \"/tmp/xio_image.png\";\n",
    "    xt::dump_image(temp_filename, e);\n",
    "    return read_file(temp_filename);\n",
    "}"
   ]
  },
  {
   "cell_type": "code",
   "execution_count": null,
   "metadata": {},
   "outputs": [],
   "source": [
    "xw::progress<double> progress;\n",
    "progress.description = \"Progress:\";\n",
    "progress"
   ]
  },
  {
   "cell_type": "code",
   "execution_count": null,
   "metadata": {},
   "outputs": [],
   "source": [
    "auto output = xw::image();\n",
    "\n",
    "xt::xarray<double> image_R;\n",
    "xt::xarray< std::complex<double> > d_image_dx_fs_bw;\n",
    "xt::xarray< std::complex<double> > d_image_dy_fs_bw;\n",
    "\n",
    "image_R = xt::view(xt::load_image(\"my_awesome_cat.jpg\"), xt::all(), xt::all(), 0);\n",
    "progress.value = 10;\n",
    "\n",
    "auto image_fs_bw = xt::fftw::rfft2(image_R);\n",
    "progress.value = 20;\n",
    "\n",
    "std::complex<double> i {0, 1};\n",
    "d_image_dx_fs_bw = i * xt::view(xt::fftw::fftscale<double>(image_R.shape()[0]), xt::all(), xt::newaxis()) * image_fs_bw;\n",
    "progress.value = 30;\n",
    "d_image_dy_fs_bw = i * xt::fftw::rfftscale<double>(image_R.shape()[1]) * image_fs_bw;\n",
    "progress.value = 40;\n",
    "\n",
    "auto d_image_dx_bw = xt::fftw::irfft2(d_image_dx_fs_bw);\n",
    "progress.value = 50;\n",
    "auto d_image_dy_bw = xt::fftw::irfft2(d_image_dy_fs_bw);\n",
    "progress.value = 60;\n",
    "\n",
    "auto d_image_grad_bw = xt::sqrt(d_image_dx_bw * d_image_dx_bw + d_image_dy_bw * d_image_dy_bw);\n",
    "progress.value = 70;\n",
    "\n",
    "double amax_d_image_grad_bw3 = xt::amax(d_image_grad_bw)[0];\n",
    "progress.value = 80;\n",
    "\n",
    "auto res = xt::cast<unsigned char>(255 - (d_image_grad_bw / amax_d_image_grad_bw3 * 255));\n",
    "progress.value = 90;\n",
    "output.value = to_png_buffer(res);\n",
    "progress.value = 100;\n",
    "\n",
    "output"
   ]
  },
  {
   "cell_type": "code",
   "execution_count": null,
   "metadata": {},
   "outputs": [],
   "source": []
  }
 ],
 "metadata": {
  "kernelspec": {
   "display_name": "C++14",
   "language": "C++14",
   "name": "xeus-cling-cpp14"
  },
  "language_info": {
   "codemirror_mode": "text/x-c++src",
   "file_extension": ".cpp",
   "mimetype": "text/x-c++src",
   "name": "c++",
   "version": "-std=c++14"
  }
 },
 "nbformat": 4,
 "nbformat_minor": 2
}
