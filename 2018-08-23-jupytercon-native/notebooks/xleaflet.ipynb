{
 "cells": [
  {
   "cell_type": "markdown",
   "metadata": {},
   "source": [
    "![xleaflet](../src/xleaflet.svg)"
   ]
  },
  {
   "cell_type": "markdown",
   "metadata": {},
   "source": [
    "<center> <h1>C++ backend for the jupyter-leaflet map visualization library</h1> </center>"
   ]
  },
  {
   "cell_type": "code",
   "execution_count": null,
   "metadata": {},
   "outputs": [],
   "source": [
    "#include <random>\n",
    "#include <array>\n",
    "#include <vector>\n",
    "#include <chrono>\n",
    "#include <thread>\n",
    "\n",
    "#include \"xwidgets/xlink.hpp\"\n",
    "#include \"xwidgets/xslider.hpp\"\n",
    "\n",
    "#include \"xleaflet/xmap.hpp\"\n",
    "#include \"xleaflet/xbasemaps.hpp\"\n",
    "#include \"xleaflet/xmarker.hpp\"\n",
    "#include \"xleaflet/xheatmap.hpp\""
   ]
  },
  {
   "cell_type": "markdown",
   "metadata": {},
   "source": [
    "# Base example with xwidgets"
   ]
  },
  {
   "cell_type": "code",
   "execution_count": null,
   "metadata": {},
   "outputs": [],
   "source": [
    "std::array<double, 2> center = {52.204793, 360.121558};\n",
    "\n",
    "auto map1 = xlf::map_generator()\n",
    "    .center(center)\n",
    "    .zoom(9)\n",
    "    .finalize();\n",
    "map1.display();"
   ]
  },
  {
   "cell_type": "markdown",
   "metadata": {},
   "source": [
    "## Link the zoom level to a slider widget"
   ]
  },
  {
   "cell_type": "code",
   "execution_count": null,
   "metadata": {},
   "outputs": [],
   "source": [
    "auto slider = xw::slider_generator<int>()\n",
    "    .max(map1.max_zoom)\n",
    "    .min(map1.min_zoom)\n",
    "    .description(\"zoom:\")\n",
    "    .value(map1.zoom)\n",
    "    .finalize();\n",
    "\n",
    "auto link = xw::link(slider, \"value\", map1, \"zoom\");\n",
    "\n",
    "slider"
   ]
  },
  {
   "cell_type": "markdown",
   "metadata": {},
   "source": [
    "## Add a Strava layer"
   ]
  },
  {
   "cell_type": "code",
   "execution_count": null,
   "metadata": {},
   "outputs": [],
   "source": [
    "auto strava = xlf::basemap({\"Strava\", \"All\"});\n",
    "\n",
    "map1.add_layer(strava);"
   ]
  },
  {
   "cell_type": "markdown",
   "metadata": {},
   "source": [
    "## Add a marker"
   ]
  },
  {
   "cell_type": "code",
   "execution_count": null,
   "metadata": {},
   "outputs": [],
   "source": [
    "auto marker = xlf::marker_generator()\n",
    "    .location({52.1, 359.9})\n",
    "    .finalize();\n",
    "\n",
    "map1.add_layer(marker);"
   ]
  },
  {
   "cell_type": "markdown",
   "metadata": {},
   "source": [
    "# Heatmap layer"
   ]
  },
  {
   "cell_type": "code",
   "execution_count": null,
   "metadata": {},
   "outputs": [],
   "source": [
    "auto map2 = xlf::map_generator()\n",
    "    .center({37.58, 261.65})\n",
    "    .zoom(5)\n",
    "    .finalize();\n",
    "map2"
   ]
  },
  {
   "cell_type": "code",
   "execution_count": null,
   "metadata": {},
   "outputs": [],
   "source": [
    "std::random_device rd;\n",
    "std::mt19937 mt(rd());\n",
    "std::uniform_real_distribution<double> rd_latitude(34.0, 40.0);\n",
    "std::uniform_real_distribution<double> rd_longitude(255.0, 265.0);\n",
    "std::uniform_real_distribution<double> rd_intensity(0.0, 1000.0);\n",
    "\n",
    "std::vector<std::array<double, 3>> heatmap_points;\n",
    "\n",
    "for (std::size_t i = 0; i < 100; ++i)\n",
    "{\n",
    "    heatmap_points.push_back({rd_latitude(mt), rd_longitude(mt), rd_intensity(mt)});\n",
    "}"
   ]
  },
  {
   "cell_type": "code",
   "execution_count": null,
   "metadata": {},
   "outputs": [],
   "source": [
    "inline void update_heatmap()\n",
    "{\n",
    "    for (std::size_t i = 0; i < 100; ++i)\n",
    "    {\n",
    "        heatmap_points[i][0] = rd_latitude(mt);\n",
    "        heatmap_points[i][1] = rd_longitude(mt);\n",
    "        heatmap_points[i][2] = rd_intensity(mt);\n",
    "    }\n",
    "}"
   ]
  },
  {
   "cell_type": "code",
   "execution_count": null,
   "metadata": {},
   "outputs": [],
   "source": [
    "auto heatmap = xlf::heatmap_generator()\n",
    "    .locations(heatmap_points)\n",
    "    .finalize();\n",
    "map2.add_layer(heatmap);"
   ]
  },
  {
   "cell_type": "code",
   "execution_count": null,
   "metadata": {},
   "outputs": [],
   "source": [
    "for (std::size_t i = 0; i < 20; ++i)\n",
    "{\n",
    "    std::this_thread::sleep_for(std::chrono::seconds(1));\n",
    "    update_heatmap();\n",
    "    heatmap.locations = heatmap_points;\n",
    "}"
   ]
  }
 ],
 "metadata": {
  "kernelspec": {
   "display_name": "C++14",
   "language": "C++14",
   "name": "xeus-cling-cpp14"
  },
  "language_info": {
   "codemirror_mode": "text/x-c++src",
   "file_extension": ".cpp",
   "mimetype": "text/x-c++src",
   "name": "c++",
   "version": "-std=c++14"
  }
 },
 "nbformat": 4,
 "nbformat_minor": 2
}
