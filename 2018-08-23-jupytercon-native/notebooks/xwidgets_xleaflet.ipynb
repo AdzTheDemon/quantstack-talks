{
 "cells": [
  {
   "cell_type": "markdown",
   "metadata": {},
   "source": [
    "![xwidgets](../src/xwidgets.svg)"
   ]
  },
  {
   "cell_type": "markdown",
   "metadata": {},
   "source": [
    "<center> <h1>Widgets in C++ with xeus and cling</h1> </center>"
   ]
  },
  {
   "cell_type": "markdown",
   "metadata": {},
   "source": [
    "## Button widget"
   ]
  },
  {
   "cell_type": "code",
   "execution_count": null,
   "metadata": {},
   "outputs": [],
   "source": [
    "#include <iostream>\n",
    "#include \"xwidgets/xbutton.hpp\""
   ]
  },
  {
   "cell_type": "code",
   "execution_count": null,
   "metadata": {},
   "outputs": [],
   "source": [
    "xw::button button;"
   ]
  },
  {
   "cell_type": "code",
   "execution_count": null,
   "metadata": {},
   "outputs": [],
   "source": [
    "void foo()\n",
    "{\n",
    "    std::cout << \"Clicked!\" << std::endl;\n",
    "}"
   ]
  },
  {
   "cell_type": "code",
   "execution_count": null,
   "metadata": {},
   "outputs": [],
   "source": [
    "button.on_click(foo);\n",
    "    \n",
    "button.display()"
   ]
  },
  {
   "cell_type": "code",
   "execution_count": null,
   "metadata": {},
   "outputs": [],
   "source": [
    "button.description = \"button\";"
   ]
  },
  {
   "cell_type": "markdown",
   "metadata": {},
   "source": [
    "## Numerical input"
   ]
  },
  {
   "cell_type": "code",
   "execution_count": null,
   "metadata": {},
   "outputs": [],
   "source": [
    "#include \"xwidgets/xnumeral.hpp\""
   ]
  },
  {
   "cell_type": "code",
   "execution_count": null,
   "metadata": {},
   "outputs": [],
   "source": [
    "xw::numeral<double> numeral;\n",
    "numeral.display()"
   ]
  },
  {
   "cell_type": "code",
   "execution_count": null,
   "metadata": {},
   "outputs": [],
   "source": [
    "numeral.value = 4;"
   ]
  },
  {
   "cell_type": "code",
   "execution_count": null,
   "metadata": {},
   "outputs": [],
   "source": [
    "numeral.value()"
   ]
  },
  {
   "cell_type": "markdown",
   "metadata": {},
   "source": [
    "## Image"
   ]
  },
  {
   "cell_type": "code",
   "execution_count": null,
   "metadata": {},
   "outputs": [],
   "source": [
    "#include \"xwidgets/ximage.hpp\"\n",
    "#include \"xwidgets/xprogress.hpp\""
   ]
  },
  {
   "cell_type": "code",
   "execution_count": null,
   "metadata": {},
   "outputs": [],
   "source": [
    "auto input = xw::image_from_file(\"my_awesome_cat.jpg\").finalize();\n",
    "input"
   ]
  },
  {
   "cell_type": "markdown",
   "metadata": {},
   "source": [
    "![xtensor-fftw](../src/xtensor-fftw.svg)"
   ]
  },
  {
   "cell_type": "code",
   "execution_count": null,
   "metadata": {},
   "outputs": [],
   "source": [
    "#pragma cling(optimize, 3)\n",
    "\n",
    "#include <string>\n",
    "#include <fstream>\n",
    "#include <complex>\n",
    "\n",
    "#include \"xtl/xbase64.hpp\"\n",
    "\n",
    "#include \"xtensor/xarray.hpp\"\n",
    "#include \"xtensor/xview.hpp\"\n",
    "#include \"xtensor/xbuilder.hpp\"\n",
    "\n",
    "#include \"xtensor-io/ximage.hpp\"\n",
    "\n",
    "#include \"xtensor-fftw/basic.hpp\"\n",
    "#include \"xtensor-fftw/helper.hpp\""
   ]
  },
  {
   "cell_type": "code",
   "execution_count": null,
   "metadata": {},
   "outputs": [],
   "source": [
    "std::vector<char> read_file(const char* filename)\n",
    "{\n",
    "    std::basic_ifstream<char> file(filename, std::ios::binary);\n",
    "    return std::vector<char>((std::istreambuf_iterator<char>(file)), std::istreambuf_iterator<char>());\n",
    "}"
   ]
  },
  {
   "cell_type": "code",
   "execution_count": null,
   "metadata": {},
   "outputs": [],
   "source": [
    "template <class E>\n",
    "std::vector<char> to_png_buffer(const xt::xexpression<E>& e)\n",
    "{\n",
    "    const char* temp_filename = \"/tmp/xio_image.png\";\n",
    "    xt::dump_image(temp_filename, e);\n",
    "    return read_file(temp_filename);\n",
    "}"
   ]
  },
  {
   "cell_type": "code",
   "execution_count": null,
   "metadata": {},
   "outputs": [],
   "source": [
    "xw::progress<double> progress;\n",
    "progress.description = \"Progress:\";\n",
    "progress"
   ]
  },
  {
   "cell_type": "code",
   "execution_count": null,
   "metadata": {},
   "outputs": [],
   "source": [
    "auto output = xw::image();\n",
    "\n",
    "xt::xarray<double> image_R;\n",
    "xt::xarray< std::complex<double> > d_image_dx_fs_bw;\n",
    "xt::xarray< std::complex<double> > d_image_dy_fs_bw;\n",
    "\n",
    "image_R = xt::view(xt::load_image(\"my_awesome_cat.jpg\"), xt::all(), xt::all(), 0);\n",
    "progress.value = 10;\n",
    "\n",
    "auto image_fs_bw = xt::fftw::rfft2(image_R);\n",
    "progress.value = 20;\n",
    "\n",
    "std::complex<double> i {0, 1};\n",
    "d_image_dx_fs_bw = i * xt::view(xt::fftw::fftscale<double>(image_R.shape()[0]), xt::all(), xt::newaxis()) * image_fs_bw;\n",
    "progress.value = 30;\n",
    "d_image_dy_fs_bw = i * xt::fftw::rfftscale<double>(image_R.shape()[1]) * image_fs_bw;\n",
    "progress.value = 40;\n",
    "\n",
    "auto d_image_dx_bw = xt::fftw::irfft2(d_image_dx_fs_bw);\n",
    "progress.value = 50;\n",
    "auto d_image_dy_bw = xt::fftw::irfft2(d_image_dy_fs_bw);\n",
    "progress.value = 60;\n",
    "\n",
    "auto d_image_grad_bw = xt::sqrt(d_image_dx_bw * d_image_dx_bw + d_image_dy_bw * d_image_dy_bw);\n",
    "progress.value = 70;\n",
    "\n",
    "double amax_d_image_grad_bw3 = xt::amax(d_image_grad_bw)[0];\n",
    "progress.value = 80;\n",
    "\n",
    "auto res = xt::cast<unsigned char>(255 - (d_image_grad_bw / amax_d_image_grad_bw3 * 255));\n",
    "progress.value = 90;\n",
    "output.value = to_png_buffer(res);\n",
    "progress.value = 100;\n",
    "\n",
    "output"
   ]
  },
  {
   "cell_type": "markdown",
   "metadata": {},
   "source": [
    "![xleaflet](../src/xleaflet.svg)"
   ]
  },
  {
   "cell_type": "markdown",
   "metadata": {},
   "source": [
    "<center> <h1>C++ backend for the jupyter-leaflet map visualization library</h1> </center>"
   ]
  },
  {
   "cell_type": "code",
   "execution_count": null,
   "metadata": {},
   "outputs": [],
   "source": [
    "#include <random>\n",
    "#include <array>\n",
    "#include <vector>\n",
    "#include <chrono>\n",
    "#include <thread>\n",
    "\n",
    "#include \"xwidgets/xlink.hpp\"\n",
    "#include \"xwidgets/xslider.hpp\"\n",
    "\n",
    "#include \"xleaflet/xmap.hpp\"\n",
    "#include \"xleaflet/xbasemaps.hpp\"\n",
    "#include \"xleaflet/xmarker.hpp\"\n",
    "#include \"xleaflet/xheatmap.hpp\""
   ]
  },
  {
   "cell_type": "markdown",
   "metadata": {},
   "source": [
    "# Base example with xwidgets"
   ]
  },
  {
   "cell_type": "code",
   "execution_count": null,
   "metadata": {},
   "outputs": [],
   "source": [
    "std::array<double, 2> center = {52.204793, 360.121558};\n",
    "\n",
    "auto map1 = xlf::map_generator()\n",
    "    .center(center)\n",
    "    .zoom(9)\n",
    "    .finalize();\n",
    "map1.display();"
   ]
  },
  {
   "cell_type": "markdown",
   "metadata": {},
   "source": [
    "## Link the zoom level to a slider widget"
   ]
  },
  {
   "cell_type": "code",
   "execution_count": null,
   "metadata": {},
   "outputs": [],
   "source": [
    "auto slider = xw::slider_generator<int>()\n",
    "    .max(map1.max_zoom)\n",
    "    .min(map1.min_zoom)\n",
    "    .description(\"zoom:\")\n",
    "    .value(map1.zoom)\n",
    "    .finalize();\n",
    "\n",
    "auto link = xw::link(slider, \"value\", map1, \"zoom\");\n",
    "\n",
    "slider"
   ]
  },
  {
   "cell_type": "markdown",
   "metadata": {},
   "source": [
    "## Add a Strava layer"
   ]
  },
  {
   "cell_type": "code",
   "execution_count": null,
   "metadata": {},
   "outputs": [],
   "source": [
    "auto strava = xlf::basemap({\"Strava\", \"All\"});\n",
    "\n",
    "map1.add_layer(strava);"
   ]
  },
  {
   "cell_type": "markdown",
   "metadata": {},
   "source": [
    "## Add a marker"
   ]
  },
  {
   "cell_type": "code",
   "execution_count": null,
   "metadata": {},
   "outputs": [],
   "source": [
    "auto marker = xlf::marker_generator()\n",
    "    .location({52.1, 359.9})\n",
    "    .finalize();\n",
    "\n",
    "map1.add_layer(marker);"
   ]
  },
  {
   "cell_type": "markdown",
   "metadata": {},
   "source": [
    "# Heatmap layer"
   ]
  },
  {
   "cell_type": "code",
   "execution_count": null,
   "metadata": {},
   "outputs": [],
   "source": [
    "auto map2 = xlf::map_generator()\n",
    "    .center({37.58, 261.65})\n",
    "    .zoom(5)\n",
    "    .finalize();\n",
    "map2"
   ]
  },
  {
   "cell_type": "code",
   "execution_count": null,
   "metadata": {},
   "outputs": [],
   "source": [
    "std::random_device rd;\n",
    "std::mt19937 mt(rd());\n",
    "std::uniform_real_distribution<double> rd_latitude(34.0, 40.0);\n",
    "std::uniform_real_distribution<double> rd_longitude(255.0, 265.0);\n",
    "std::uniform_real_distribution<double> rd_intensity(0.0, 1000.0);\n",
    "\n",
    "std::vector<std::array<double, 3>> heatmap_points;\n",
    "\n",
    "for (std::size_t i = 0; i < 100; ++i)\n",
    "{\n",
    "    heatmap_points.push_back({rd_latitude(mt), rd_longitude(mt), rd_intensity(mt)});\n",
    "}"
   ]
  },
  {
   "cell_type": "code",
   "execution_count": null,
   "metadata": {},
   "outputs": [],
   "source": [
    "inline void update_heatmap()\n",
    "{\n",
    "    for (std::size_t i = 0; i < 100; ++i)\n",
    "    {\n",
    "        heatmap_points[i][0] = rd_latitude(mt);\n",
    "        heatmap_points[i][1] = rd_longitude(mt);\n",
    "        heatmap_points[i][2] = rd_intensity(mt);\n",
    "    }\n",
    "}"
   ]
  },
  {
   "cell_type": "code",
   "execution_count": null,
   "metadata": {},
   "outputs": [],
   "source": [
    "auto heatmap = xlf::heatmap_generator()\n",
    "    .locations(heatmap_points)\n",
    "    .finalize();\n",
    "map2.add_layer(heatmap);"
   ]
  },
  {
   "cell_type": "code",
   "execution_count": null,
   "metadata": {},
   "outputs": [],
   "source": [
    "for (std::size_t i = 0; i < 20; ++i)\n",
    "{\n",
    "    std::this_thread::sleep_for(std::chrono::seconds(1));\n",
    "    update_heatmap();\n",
    "    heatmap.locations = heatmap_points;\n",
    "}"
   ]
  }
 ],
 "metadata": {
  "kernelspec": {
   "display_name": "C++14",
   "language": "C++14",
   "name": "xeus-cling-cpp14"
  },
  "language_info": {
   "codemirror_mode": "text/x-c++src",
   "file_extension": ".cpp",
   "mimetype": "text/x-c++src",
   "name": "c++",
   "version": "-std=c++14"
  }
 },
 "nbformat": 4,
 "nbformat_minor": 2
}
