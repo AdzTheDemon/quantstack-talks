{
 "cells": [
  {
   "cell_type": "code",
   "execution_count": 1,
   "metadata": {},
   "outputs": [],
   "source": [
    "import ipywidgets as widgets\n",
    "from traitlets import Unicode, List, Int"
   ]
  },
  {
   "cell_type": "markdown",
   "metadata": {},
   "source": [
    "# Example from http://bl.ocks.org/mbostock/4060366"
   ]
  },
  {
   "cell_type": "code",
   "execution_count": 2,
   "metadata": {},
   "outputs": [
    {
     "data": {
      "application/javascript": [
       "\n",
       "var s = document.createElement(\"style\");\n",
       "s.innerHTML = `\n",
       "path {\n",
       "  stroke: #fff;\n",
       "}\n",
       "\n",
       "path:first-child {\n",
       "  fill: yellow !important;\n",
       "}\n",
       "\n",
       "circle {\n",
       "  fill: #000;\n",
       "  pointer-events: none;\n",
       "}\n",
       "\n",
       ".q0-9 { fill: rgb(197,27,125); }\n",
       ".q1-9 { fill: rgb(222,119,174); }\n",
       ".q2-9 { fill: rgb(241,182,218); }\n",
       ".q3-9 { fill: rgb(253,224,239); }\n",
       ".q4-9 { fill: rgb(247,247,247); }\n",
       ".q5-9 { fill: rgb(230,245,208); }\n",
       ".q6-9 { fill: rgb(184,225,134); }\n",
       ".q7-9 { fill: rgb(127,188,65); }\n",
       ".q8-9 { fill: rgb(77,146,33); }`;\n",
       "\n",
       "document.getElementsByTagName(\"head\")[0].appendChild(s);"
      ],
      "text/plain": [
       "<IPython.core.display.Javascript object>"
      ]
     },
     "metadata": {},
     "output_type": "display_data"
    }
   ],
   "source": [
    "%%javascript\n",
    "\n",
    "var s = document.createElement(\"style\");\n",
    "s.innerHTML = `\n",
    "path {\n",
    "  stroke: #fff;\n",
    "}\n",
    "\n",
    "path:first-child {\n",
    "  fill: yellow !important;\n",
    "}\n",
    "\n",
    "circle {\n",
    "  fill: #000;\n",
    "  pointer-events: none;\n",
    "}\n",
    "\n",
    ".q0-9 { fill: rgb(197,27,125); }\n",
    ".q1-9 { fill: rgb(222,119,174); }\n",
    ".q2-9 { fill: rgb(241,182,218); }\n",
    ".q3-9 { fill: rgb(253,224,239); }\n",
    ".q4-9 { fill: rgb(247,247,247); }\n",
    ".q5-9 { fill: rgb(230,245,208); }\n",
    ".q6-9 { fill: rgb(184,225,134); }\n",
    ".q7-9 { fill: rgb(127,188,65); }\n",
    ".q8-9 { fill: rgb(77,146,33); }`;\n",
    "\n",
    "document.getElementsByTagName(\"head\")[0].appendChild(s);"
   ]
  },
  {
   "cell_type": "code",
   "execution_count": 3,
   "metadata": {},
   "outputs": [],
   "source": [
    "class MyD3(widgets.DOMWidget):\n",
    "    _view_name = Unicode('HelloView').tag(sync=True)\n",
    "    _view_module = Unicode('myd3').tag(sync=True)\n",
    "    width = Int().tag(sync=True)\n",
    "    height = Int().tag(sync=True)\n",
    "    vertices = List().tag(sync=True)"
   ]
  },
  {
   "cell_type": "code",
   "execution_count": 4,
   "metadata": {},
   "outputs": [
    {
     "data": {
      "application/javascript": [
       "require.undef('myd3');\n",
       "\n",
       "define('myd3', [\"jupyter-js-widgets\",\n",
       "                \"https://cdnjs.cloudflare.com/ajax/libs/d3/3.5.17/d3.js\"], function(widgets, d3) {\n",
       "    \n",
       "    var HelloView = widgets.DOMWidgetView.extend({\n",
       "        \n",
       "        render: function() { \n",
       "            var that = this;\n",
       "            this.width = this.model.get('width');\n",
       "            this.height = this.model.get('height');\n",
       "            that.vertices = this.model.get('vertices');\n",
       "            \n",
       "            that.voronoi = d3.geom.voronoi()\n",
       "                .clipExtent([[0, 0], [that.width, that.height]]);\n",
       "\n",
       "            this.svg = d3.select(this.el).append(\"svg\")\n",
       "                .attr(\"width\", that.width)\n",
       "                .attr(\"height\", that.height)\n",
       "                .on(\"mousemove\", function() { \n",
       "                    that.vertices[0] = d3.mouse(this);\n",
       "                    that.redraw();\n",
       "                });\n",
       "            \n",
       "            var g1 = this.svg.append(\"g\");\n",
       "            this.path = g1.selectAll(\"path\");\n",
       "            var g2 = this.svg.append(\"g\");\n",
       "            this.circle = g2.selectAll(\"circle\");\n",
       "\n",
       "            this.model.on('change:vertices', this.update_vertices, this);\n",
       "            this.redraw();\n",
       "        },\n",
       "        \n",
       "        update_vertices: function() {\n",
       "            this.redraw();\n",
       "        },\n",
       "        \n",
       "        redraw: function () {\n",
       "          this.vertices = this.model.get('vertices');\n",
       "\n",
       "          this.path = this.path\n",
       "              .data(this.voronoi(this.vertices), this.polygon);\n",
       "          this.path.exit().remove();\n",
       "          this.path.enter().append(\"path\")\n",
       "              .attr(\"class\", function(d, i) { return \"q\" + (i % 9) + \"-9\"; })\n",
       "              .attr(\"d\", this.polygon);\n",
       "          this.path.order();\n",
       "\n",
       "          this.circle = this.circle\n",
       "              .data([]);\n",
       "          this.circle.exit().remove();\n",
       "         \n",
       "          this.circle = this.circle\n",
       "              .data(this.vertices.slice(1));        \n",
       "\n",
       "          this.circle.enter().append(\"circle\")\n",
       "            .attr(\"transform\", function(d) { \n",
       "              return \"translate(\" + d + \")\";\n",
       "            })\n",
       "            .attr(\"r\", 1.5);\n",
       "        },\n",
       "        \n",
       "        polygon: function (d) {\n",
       "          return \"M\" + d.join(\"L\") + \"Z\";\n",
       "        }\n",
       "    });\n",
       "    \n",
       "    return {\n",
       "        HelloView : HelloView\n",
       "    };\n",
       "});"
      ],
      "text/plain": [
       "<IPython.core.display.Javascript object>"
      ]
     },
     "metadata": {},
     "output_type": "display_data"
    }
   ],
   "source": [
    "%%javascript\n",
    "require.undef('myd3');\n",
    "\n",
    "define('myd3', [\"jupyter-js-widgets\",\n",
    "                \"https://cdnjs.cloudflare.com/ajax/libs/d3/3.5.17/d3.js\"], function(widgets, d3) {\n",
    "    \n",
    "    var HelloView = widgets.DOMWidgetView.extend({\n",
    "        \n",
    "        render: function() { \n",
    "            var that = this;\n",
    "            this.width = this.model.get('width');\n",
    "            this.height = this.model.get('height');\n",
    "            that.vertices = this.model.get('vertices');\n",
    "            \n",
    "            that.voronoi = d3.geom.voronoi()\n",
    "                .clipExtent([[0, 0], [that.width, that.height]]);\n",
    "\n",
    "            this.svg = d3.select(this.el).append(\"svg\")\n",
    "                .attr(\"width\", that.width)\n",
    "                .attr(\"height\", that.height)\n",
    "                .on(\"mousemove\", function() { \n",
    "                    that.vertices[0] = d3.mouse(this);\n",
    "                    that.redraw();\n",
    "                });\n",
    "            \n",
    "            var g1 = this.svg.append(\"g\");\n",
    "            this.path = g1.selectAll(\"path\");\n",
    "            var g2 = this.svg.append(\"g\");\n",
    "            this.circle = g2.selectAll(\"circle\");\n",
    "\n",
    "            this.model.on('change:vertices', this.update_vertices, this);\n",
    "            this.redraw();\n",
    "        },\n",
    "        \n",
    "        update_vertices: function() {\n",
    "            this.redraw();\n",
    "        },\n",
    "        \n",
    "        redraw: function () {\n",
    "          this.vertices = this.model.get('vertices');\n",
    "\n",
    "          this.path = this.path\n",
    "              .data(this.voronoi(this.vertices), this.polygon);\n",
    "          this.path.exit().remove();\n",
    "          this.path.enter().append(\"path\")\n",
    "              .attr(\"class\", function(d, i) { return \"q\" + (i % 9) + \"-9\"; })\n",
    "              .attr(\"d\", this.polygon);\n",
    "          this.path.order();\n",
    "\n",
    "          this.circle = this.circle\n",
    "              .data([]);\n",
    "          this.circle.exit().remove();\n",
    "         \n",
    "          this.circle = this.circle\n",
    "              .data(this.vertices.slice(1));        \n",
    "\n",
    "          this.circle.enter().append(\"circle\")\n",
    "            .attr(\"transform\", function(d) { \n",
    "              return \"translate(\" + d + \")\";\n",
    "            })\n",
    "            .attr(\"r\", 1.5);\n",
    "        },\n",
    "        \n",
    "        polygon: function (d) {\n",
    "          return \"M\" + d.join(\"L\") + \"Z\";\n",
    "        }\n",
    "    });\n",
    "    \n",
    "    return {\n",
    "        HelloView : HelloView\n",
    "    };\n",
    "});"
   ]
  },
  {
   "cell_type": "code",
   "execution_count": 5,
   "metadata": {},
   "outputs": [
    {
     "data": {
      "application/vnd.jupyter.widget-view+json": {
       "model_id": "91992e9525cd4af3aeacaff3f9e2009f",
       "version_major": 2,
       "version_minor": 0
      },
      "text/html": [
       "<p>Failed to display Jupyter Widget of type <code>MyD3</code>.</p>\n",
       "<p>\n",
       "  If you're reading this message in the Jupyter Notebook or JupyterLab Notebook, it may mean\n",
       "  that the widgets JavaScript is still loading. If this message persists, it\n",
       "  likely means that the widgets JavaScript library is either not installed or\n",
       "  not enabled. See the <a href=\"https://ipywidgets.readthedocs.io/en/stable/user_install.html\">Jupyter\n",
       "  Widgets Documentation</a> for setup instructions.\n",
       "</p>\n",
       "<p>\n",
       "  If you're reading this message in another frontend (for example, a static\n",
       "  rendering on GitHub or <a href=\"https://nbviewer.jupyter.org/\">NBViewer</a>),\n",
       "  it may mean that your frontend doesn't currently support widgets.\n",
       "</p>\n"
      ],
      "text/plain": [
       "MyD3(height=300, vertices=[[619.133933738279, 47.80997414898253], [182.8986493638899, 129.3459597940932], [85.9356832672144, 103.33358158435637], [159.7636312003909, 254.47114402731387], [419.7482974733205, 119.23932166467995], [286.4282083395702, 217.30297715839316], [219.71920294935327, 206.9990727628121], [180.36520730982386, 294.155811841476], [281.6597803588295, 49.02617814265333], [269.1939734810342, 160.8545905785834], [602.4771724644478, 296.5792458138312], [565.8286418739874, 195.80479871009936], [656.9452165966266, 87.49507528448467], [637.0467676171844, 280.8310792589746], [651.3297157235162, 269.40881921128545], [567.8151498854618, 221.23386427405475], [686.2186461077438, 246.79922371540331], [616.6865482144392, 259.42000145601094], [652.194894127473, 136.98041370858186], [59.23109460547219, 149.61037529044492], [17.480289157694646, 89.45184858465136], [230.13365579039373, 1.5520166522948853], [73.78760521054365, 68.0028936734112], [2.406703437865948, 160.2370670594048], [411.1933659553947, 231.75397934903054], [280.72608735793875, 144.99096363100054], [511.05418101400454, 153.54180585305042], [592.1435137571345, 55.89776554680783], [466.793134012703, 68.70045366743031], [685.0734706914097, 241.9979089798386], [259.4688878230614, 107.95020147919607], [182.36109978114496, 163.34253063389497], [36.350839795855514, 2.695776494495006], [243.14715975832786, 52.10842278202959], [61.35828483956987, 71.64890244348882], [560.3992054131551, 85.69713271278306], [187.12737466583502, 291.4712621957471], [547.1706655663385, 4.64752220460789], [592.62952288127, 12.394315999536797], [347.10791918049455, 159.30009525534885], [360.4743588402835, 104.0832957479239], [241.1376889536007, 35.016843486665294], [705.6923263265986, 215.92991130732855], [257.8313037852134, 250.9913450896829], [36.57298023693592, 32.73078571238531], [599.4970466654727, 193.77436338106986], [190.6800220904005, 199.8005062898579], [376.04848021251405, 82.69167445824381], [276.88727020678385, 119.3034886084232], [732.6601726435985, 232.86487198589572], [738.5703133522453, 276.43149349067374], [473.5993193098125, 121.7022639284851], [156.92238270111525, 71.07188349851316], [614.3682176277406, 266.0378615365119], [202.08094237441594, 24.203102798603247], [190.0794945611926, 108.9149384511276], [352.28357333619624, 254.8236452092828], [456.2827712655074, 62.494039371771315], [614.4128723934122, 242.52949115667082], [454.1844578543001, 17.412197294910936], [423.65283801696506, 144.93232057002342], [712.7139304367746, 25.407451083700707], [362.32038881299565, 48.35714605875564], [439.62477880843903, 208.98207865618687], [748.5409821954864, 229.5814493926339], [428.1089376350078, 29.54190852857196], [452.61713577107327, 230.53429122456245], [253.6904807245345, 180.8841328725135], [128.26863471711266, 210.36379386132728], [455.5201226646329, 298.1429965846866], [708.0410827836297, 53.19587908856951], [423.6222281042909, 55.661793028182096], [95.31255361659724, 38.97487576013714], [224.5633553851503, 270.5332507384719], [109.13269565983177, 174.7217678783966], [336.8773437223028, 242.46052606416913], [580.0338028031449, 200.7628265037707], [628.8393985137426, 208.86212664602897], [524.1709179469506, 115.83790019432186], [272.26178195297615, 168.7800959147581], [724.3769259103839, 6.01145395898528], [334.86769893869814, 3.6159675289709092], [445.98665258269915, 238.17646428994678], [378.6471380323111, 111.76889028729988], [497.06632945189665, 297.7668688926836], [62.69529065814544, 207.99224575075772], [474.1305046319415, 105.30290203824501], [228.40560011668538, 149.33785231507446], [76.34355071454091, 130.24827034609038], [234.77725209651982, 2.333002211484092], [377.11923376323534, 124.83643879687848], [630.4761556696595, 206.6057620433258], [688.808156563661, 265.5493627686916], [489.66698539620324, 106.48439059986084], [506.08009356301784, 6.218363440414965], [262.56739939595207, 166.72085361596285], [604.8765877990382, 35.78325008220449], [551.0765864848488, 111.79106210261051], [594.2316322371285, 166.7798771279926], [594.6406299120239, 14.835130232124383]], width=750)"
      ]
     },
     "metadata": {},
     "output_type": "display_data"
    }
   ],
   "source": [
    "import numpy as np\n",
    "sample_size = 100\n",
    "width = 750\n",
    "height = 300\n",
    "\n",
    "m = MyD3(vertices=(np.random.rand(sample_size, 2) * np.array([width, height])).tolist(),\n",
    "     height=height, width=width)\n",
    "m"
   ]
  },
  {
   "cell_type": "code",
   "execution_count": 6,
   "metadata": {},
   "outputs": [],
   "source": [
    "m.vertices = (np.random.rand(sample_size, 2) * np.array([width, height])).tolist()"
   ]
  }
 ],
 "metadata": {
  "kernelspec": {
   "display_name": "Python 3",
   "language": "python",
   "name": "python3"
  },
  "language_info": {
   "codemirror_mode": {
    "name": "ipython",
    "version": 3
   },
   "file_extension": ".py",
   "mimetype": "text/x-python",
   "name": "python",
   "nbconvert_exporter": "python",
   "pygments_lexer": "ipython3",
   "version": "3.6.3"
  },
  "widgets": {
   "state": {
    "db0f15e2a3eb4e6e8f182bdfc1ab09f1": {
     "views": [
      {
       "cell_index": 5
      }
     ]
    }
   },
   "version": "2.0.0-dev"
  }
 },
 "nbformat": 4,
 "nbformat_minor": 1
}
