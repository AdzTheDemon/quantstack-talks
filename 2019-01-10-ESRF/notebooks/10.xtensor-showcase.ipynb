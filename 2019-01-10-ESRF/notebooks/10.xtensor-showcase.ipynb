{
 "cells": [
  {
   "cell_type": "code",
   "execution_count": 1,
   "metadata": {},
   "outputs": [],
   "source": [
    "#include <xtensor/xtensor.hpp>\n",
    "#include <xtensor/xarray.hpp>\n",
    "#include <xtensor/xmath.hpp>\n",
    "#include <xtensor/xview.hpp>\n",
    "#include <xtensor/xio.hpp>"
   ]
  },
  {
   "cell_type": "code",
   "execution_count": 2,
   "metadata": {},
   "outputs": [],
   "source": [
    "xt::xarray<double> a = xt::arange<double>(0., 22.5, 2.5);"
   ]
  },
  {
   "cell_type": "code",
   "execution_count": 3,
   "metadata": {},
   "outputs": [
    {
     "data": {
      "text/html": [
       "<table style='border-style:solid;border-width:1px;'><tbody><tr><td style='font-family:monospace;' title='0'><pre>  0. </pre></td></tr><tr><td style='font-family:monospace;' title='1'><pre>  2.5</pre></td></tr><tr><td style='font-family:monospace;' title='2'><pre>  5. </pre></td></tr><tr><td style='font-family:monospace;' title='3'><pre>  7.5</pre></td></tr><tr><td style='font-family:monospace;' title='4'><pre> 10. </pre></td></tr><tr><td style='font-family:monospace;' title='5'><pre> 12.5</pre></td></tr><tr><td style='font-family:monospace;' title='6'><pre> 15. </pre></td></tr><tr><td style='font-family:monospace;' title='7'><pre> 17.5</pre></td></tr><tr><td style='font-family:monospace;' title='8'><pre> 20. </pre></td></tr></tbody></table>"
      ]
     },
     "execution_count": 3,
     "metadata": {},
     "output_type": "execute_result"
    }
   ],
   "source": [
    "a"
   ]
  },
  {
   "cell_type": "code",
   "execution_count": 4,
   "metadata": {},
   "outputs": [
    {
     "data": {
      "text/html": [
       "<table style='border-style:solid;border-width:1px;'><tbody><tr><td style='font-family:monospace;' title='(0, 0)'><pre>  0. </pre></td><td style='font-family:monospace;' title='(0, 1)'><pre>  2.5</pre></td><td style='font-family:monospace;' title='(0, 2)'><pre>  5. </pre></td></tr><tr><td style='font-family:monospace;' title='(1, 0)'><pre>  7.5</pre></td><td style='font-family:monospace;' title='(1, 1)'><pre> 10. </pre></td><td style='font-family:monospace;' title='(1, 2)'><pre> 12.5</pre></td></tr><tr><td style='font-family:monospace;' title='(2, 0)'><pre> 15. </pre></td><td style='font-family:monospace;' title='(2, 1)'><pre> 17.5</pre></td><td style='font-family:monospace;' title='(2, 2)'><pre> 20. </pre></td></tr></tbody></table>"
      ]
     },
     "execution_count": 4,
     "metadata": {},
     "output_type": "execute_result"
    }
   ],
   "source": [
    "a.reshape({3, 3});\n",
    "a"
   ]
  },
  {
   "cell_type": "code",
   "execution_count": 5,
   "metadata": {},
   "outputs": [
    {
     "data": {
      "text/html": [
       "<table style='border-style:solid;border-width:1px;'><tbody><tr><td style='font-family:monospace;' title='(0, 0)'><pre> 0.      </pre></td><td style='font-family:monospace;' title='(0, 1)'><pre>-0.958924</pre></td><td style='font-family:monospace;' title='(0, 2)'><pre>-0.544021</pre></td></tr><tr><td style='font-family:monospace;' title='(1, 0)'><pre> 0.650288</pre></td><td style='font-family:monospace;' title='(1, 1)'><pre> 0.912945</pre></td><td style='font-family:monospace;' title='(1, 2)'><pre>-0.132352</pre></td></tr><tr><td style='font-family:monospace;' title='(2, 0)'><pre>-0.988032</pre></td><td style='font-family:monospace;' title='(2, 1)'><pre>-0.428183</pre></td><td style='font-family:monospace;' title='(2, 2)'><pre> 0.745113</pre></td></tr></tbody></table>"
      ]
     },
     "execution_count": 5,
     "metadata": {},
     "output_type": "execute_result"
    }
   ],
   "source": [
    "a = xt::sin(a * 2)"
   ]
  },
  {
   "cell_type": "code",
   "execution_count": 6,
   "metadata": {},
   "outputs": [],
   "source": [
    "xt::xarray<double> x1 = {-1,  2,  3};"
   ]
  },
  {
   "cell_type": "code",
   "execution_count": 7,
   "metadata": {},
   "outputs": [
    {
     "data": {
      "text/html": [
       "<table style='border-style:solid;border-width:1px;'><tbody><tr><td style='font-family:monospace;' title='(0, 0)'><pre>-0.      </pre></td><td style='font-family:monospace;' title='(0, 1)'><pre>-1.917849</pre></td><td style='font-family:monospace;' title='(0, 2)'><pre>-1.632063</pre></td></tr><tr><td style='font-family:monospace;' title='(1, 0)'><pre>-0.650288</pre></td><td style='font-family:monospace;' title='(1, 1)'><pre> 1.825891</pre></td><td style='font-family:monospace;' title='(1, 2)'><pre>-0.397055</pre></td></tr><tr><td style='font-family:monospace;' title='(2, 0)'><pre> 0.988032</pre></td><td style='font-family:monospace;' title='(2, 1)'><pre>-0.856365</pre></td><td style='font-family:monospace;' title='(2, 2)'><pre> 2.235339</pre></td></tr></tbody></table>"
      ]
     },
     "execution_count": 7,
     "metadata": {},
     "output_type": "execute_result"
    }
   ],
   "source": [
    "a * x1"
   ]
  },
  {
   "cell_type": "code",
   "execution_count": 8,
   "metadata": {},
   "outputs": [
    {
     "data": {
      "text/html": [
       "<table style='border-style:solid;border-width:1px;'><tbody><tr><td style='font-family:monospace;' title='(0, 0)'><pre>-1.917849</pre></td></tr><tr><td style='font-family:monospace;' title='(1, 0)'><pre> 1.825891</pre></td></tr><tr><td style='font-family:monospace;' title='(2, 0)'><pre>-0.856365</pre></td></tr></tbody></table>"
      ]
     },
     "execution_count": 8,
     "metadata": {},
     "output_type": "execute_result"
    }
   ],
   "source": [
    "xt::view(a * x1, xt::all(), xt::range(1, 3, 2))"
   ]
  },
  {
   "cell_type": "code",
   "execution_count": 9,
   "metadata": {},
   "outputs": [],
   "source": [
    "#include <numeric>                        // Standard library import for std::accumulate\n",
    "#include <xtensor/xmath.hpp>              // xtensor import for the C++ universal functions\n",
    "\n",
    "template <class E>\n",
    "double sum_of_sines(const E& m)\n",
    "{\n",
    "    auto sines = xt::sin(m);\n",
    "    // return xt::sum(sines)();\n",
    "    return std::accumulate(sines.begin(), sines.end(), 0.0);\n",
    "}"
   ]
  },
  {
   "cell_type": "code",
   "execution_count": 10,
   "metadata": {},
   "outputs": [
    {
     "data": {
      "text/plain": [
       "1.93951"
      ]
     },
     "execution_count": 10,
     "metadata": {},
     "output_type": "execute_result"
    }
   ],
   "source": [
    "sum_of_sines(xt::arange(0., 10000.))"
   ]
  }
 ],
 "metadata": {
  "kernelspec": {
   "display_name": "C++14",
   "language": "C++14",
   "name": "xeus-cling-cpp14"
  },
  "language_info": {
   "codemirror_mode": "text/x-c++src",
   "file_extension": ".cpp",
   "mimetype": "text/x-c++src",
   "name": "c++",
   "version": "-std=c++14"
  }
 },
 "nbformat": 4,
 "nbformat_minor": 2
}
