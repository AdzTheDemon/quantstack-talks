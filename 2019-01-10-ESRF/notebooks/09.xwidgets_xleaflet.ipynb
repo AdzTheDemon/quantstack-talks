{
 "cells": [
  {
   "cell_type": "markdown",
   "metadata": {},
   "source": [
    "<center> <h1>Widgets in C++ with xeus and cling</h1> </center>"
   ]
  },
  {
   "cell_type": "markdown",
   "metadata": {},
   "source": [
    "## Button widget"
   ]
  },
  {
   "cell_type": "code",
   "execution_count": 1,
   "metadata": {},
   "outputs": [],
   "source": [
    "#include <iostream>\n",
    "#include \"xwidgets/xbutton.hpp\""
   ]
  },
  {
   "cell_type": "code",
   "execution_count": 2,
   "metadata": {},
   "outputs": [],
   "source": [
    "xw::button button;"
   ]
  },
  {
   "cell_type": "code",
   "execution_count": 3,
   "metadata": {},
   "outputs": [],
   "source": [
    "void foo()\n",
    "{\n",
    "    button.description = \"button\";\n",
    "}"
   ]
  },
  {
   "cell_type": "code",
   "execution_count": 4,
   "metadata": {},
   "outputs": [
    {
     "data": {
      "application/vnd.jupyter.widget-view+json": {
       "model_id": "470caf3e2e6d466a858e8b71aad70ce6",
       "version_major": 2,
       "version_minor": 0
      },
      "text/plain": [
       "A Jupyter widget"
      ]
     },
     "metadata": {},
     "output_type": "display_data"
    }
   ],
   "source": [
    "button.on_click(foo);\n",
    "    \n",
    "button.display()"
   ]
  },
  {
   "cell_type": "markdown",
   "metadata": {},
   "source": [
    "## Numerical input"
   ]
  },
  {
   "cell_type": "code",
   "execution_count": 5,
   "metadata": {},
   "outputs": [],
   "source": [
    "#include \"xwidgets/xnumeral.hpp\""
   ]
  },
  {
   "cell_type": "code",
   "execution_count": 6,
   "metadata": {},
   "outputs": [
    {
     "data": {
      "application/vnd.jupyter.widget-view+json": {
       "model_id": "d60c32f80f1044198944f925d365134b",
       "version_major": 2,
       "version_minor": 0
      },
      "text/plain": [
       "A Jupyter widget"
      ]
     },
     "metadata": {},
     "output_type": "display_data"
    }
   ],
   "source": [
    "xw::numeral<double> numeral;\n",
    "numeral.display()"
   ]
  },
  {
   "cell_type": "code",
   "execution_count": 7,
   "metadata": {},
   "outputs": [],
   "source": [
    "numeral.value = 4;"
   ]
  },
  {
   "cell_type": "code",
   "execution_count": 8,
   "metadata": {},
   "outputs": [
    {
     "data": {
      "text/plain": [
       "4"
      ]
     },
     "execution_count": 8,
     "metadata": {},
     "output_type": "execute_result"
    }
   ],
   "source": [
    "numeral.value()"
   ]
  },
  {
   "cell_type": "markdown",
   "metadata": {},
   "source": [
    "## Image"
   ]
  },
  {
   "cell_type": "code",
   "execution_count": 7,
   "metadata": {},
   "outputs": [],
   "source": [
    "#include \"xwidgets/ximage.hpp\"\n",
    "#include \"xwidgets/xprogress.hpp\""
   ]
  },
  {
   "cell_type": "code",
   "execution_count": 8,
   "metadata": {},
   "outputs": [
    {
     "data": {
      "application/vnd.jupyter.widget-view+json": {
       "model_id": "0f18188b40be4ac0a07aa8866357de45",
       "version_major": 2,
       "version_minor": 0
      },
      "text/plain": [
       "A Jupyter widget"
      ]
     },
     "execution_count": 8,
     "metadata": {},
     "output_type": "execute_result"
    }
   ],
   "source": [
    "auto input = xw::image_from_file(\"./images/my_awesome_cat.jpg\").finalize();\n",
    "input"
   ]
  },
  {
   "cell_type": "markdown",
   "metadata": {},
   "source": [
    "<center> <h1>C++ backend for the jupyter-leaflet map visualization library</h1> </center>"
   ]
  },
  {
   "cell_type": "code",
   "execution_count": 9,
   "metadata": {},
   "outputs": [],
   "source": [
    "#include <random>\n",
    "#include <array>\n",
    "#include <vector>\n",
    "#include <chrono>\n",
    "#include <thread>\n",
    "\n",
    "#include \"xwidgets/xlink.hpp\"\n",
    "#include \"xwidgets/xslider.hpp\"\n",
    "\n",
    "#include \"xleaflet/xmap.hpp\"\n",
    "#include \"xleaflet/xbasemaps.hpp\"\n",
    "#include \"xleaflet/xmarker.hpp\"\n",
    "#include \"xleaflet/xheatmap.hpp\""
   ]
  },
  {
   "cell_type": "markdown",
   "metadata": {},
   "source": [
    "# Base example with xwidgets"
   ]
  },
  {
   "cell_type": "code",
   "execution_count": 10,
   "metadata": {},
   "outputs": [
    {
     "data": {
      "application/vnd.jupyter.widget-view+json": {
       "model_id": "e3190cef9a284c04b2696341b9b23815",
       "version_major": 2,
       "version_minor": 0
      },
      "text/plain": [
       "A Jupyter widget"
      ]
     },
     "metadata": {},
     "output_type": "display_data"
    }
   ],
   "source": [
    "std::array<double, 2> center = {52.204793, 360.121558};\n",
    "\n",
    "auto map1 = xlf::map_generator()\n",
    "    .center(center)\n",
    "    .zoom(9)\n",
    "    .finalize();\n",
    "map1.display();"
   ]
  },
  {
   "cell_type": "markdown",
   "metadata": {},
   "source": [
    "## Link the zoom level to a slider widget"
   ]
  },
  {
   "cell_type": "code",
   "execution_count": null,
   "metadata": {},
   "outputs": [],
   "source": [
    "auto slider = xw::slider_generator<int>()\n",
    "    .max(map1.max_zoom)\n",
    "    .min(map1.min_zoom)\n",
    "    .description(\"zoom:\")\n",
    "    .value(map1.zoom)\n",
    "    .finalize();\n",
    "\n",
    "auto link = xw::link(slider, \"value\", map1, \"zoom\");\n",
    "\n",
    "slider"
   ]
  },
  {
   "cell_type": "markdown",
   "metadata": {},
   "source": [
    "## Add a Strava layer"
   ]
  },
  {
   "cell_type": "code",
   "execution_count": null,
   "metadata": {},
   "outputs": [],
   "source": [
    "auto strava = xlf::basemap({\"Strava\", \"All\"});\n",
    "\n",
    "map1.add_layer(strava);"
   ]
  },
  {
   "cell_type": "markdown",
   "metadata": {},
   "source": [
    "## Add a marker"
   ]
  },
  {
   "cell_type": "code",
   "execution_count": null,
   "metadata": {},
   "outputs": [],
   "source": [
    "auto marker = xlf::marker_generator()\n",
    "    .location({52.1, 359.9})\n",
    "    .finalize();\n",
    "\n",
    "map1.add_layer(marker);"
   ]
  },
  {
   "cell_type": "markdown",
   "metadata": {},
   "source": [
    "# Heatmap layer"
   ]
  },
  {
   "cell_type": "code",
   "execution_count": null,
   "metadata": {},
   "outputs": [],
   "source": [
    "auto map2 = xlf::map_generator()\n",
    "    .center({37.58, 261.65})\n",
    "    .zoom(5)\n",
    "    .finalize();\n",
    "map2"
   ]
  },
  {
   "cell_type": "code",
   "execution_count": null,
   "metadata": {},
   "outputs": [],
   "source": [
    "std::random_device rd;\n",
    "std::mt19937 mt(rd());\n",
    "std::uniform_real_distribution<double> rd_latitude(34.0, 40.0);\n",
    "std::uniform_real_distribution<double> rd_longitude(255.0, 265.0);\n",
    "std::uniform_real_distribution<double> rd_intensity(0.0, 1000.0);\n",
    "\n",
    "std::vector<std::array<double, 3>> heatmap_points;\n",
    "\n",
    "for (std::size_t i = 0; i < 100; ++i)\n",
    "{\n",
    "    heatmap_points.push_back({rd_latitude(mt), rd_longitude(mt), rd_intensity(mt)});\n",
    "}"
   ]
  },
  {
   "cell_type": "code",
   "execution_count": null,
   "metadata": {},
   "outputs": [],
   "source": [
    "auto heatmap = xlf::heatmap_generator()\n",
    "    .locations(heatmap_points)\n",
    "    .finalize();\n",
    "map2.add_layer(heatmap);"
   ]
  },
  {
   "cell_type": "code",
   "execution_count": null,
   "metadata": {},
   "outputs": [],
   "source": [
    "for (std::size_t i = 0; i < 10; ++i)\n",
    "{\n",
    "    std::this_thread::sleep_for(std::chrono::seconds(1));\n",
    "    heatmap.radius = heatmap.radius() + 1;\n",
    "}"
   ]
  },
  {
   "cell_type": "markdown",
   "metadata": {},
   "source": [
    "## Velocity layer"
   ]
  },
  {
   "cell_type": "code",
   "execution_count": null,
   "metadata": {},
   "outputs": [],
   "source": [
    "#include <fstream>\n",
    "#include \"nlohmann/json.hpp\"\n",
    "#include \"xleaflet/xvelocity.hpp\""
   ]
  },
  {
   "cell_type": "code",
   "execution_count": null,
   "metadata": {},
   "outputs": [],
   "source": [
    "auto map3 = xlf::map_generator()\n",
    "    .center({37.58, 261.65})\n",
    "    .zoom(5)\n",
    "    .finalize();\n",
    "\n",
    "auto base_layer = xlf::basemap({\"CartoDB\", \"DarkMatter\"});\n",
    "map3.add_layer(base_layer);\n",
    "\n",
    "map3"
   ]
  },
  {
   "cell_type": "code",
   "execution_count": null,
   "metadata": {},
   "outputs": [],
   "source": [
    "std::ifstream file(\"velocity_data.json\");\n",
    "nlohmann::json data;\n",
    "file >> data;\n",
    "\n",
    "auto velocity = xlf::velocity_generator()\n",
    "    .data(data)\n",
    "    .velocity_scale(0.01)\n",
    "    .max_velocity(20)\n",
    "    .display_options(R\"({\n",
    "        \"velocityType\": \"Global Wind\",\n",
    "        \"displayPosition\": \"bottomleft\",\n",
    "        \"displayEmptyString\": \"No wind data\"\n",
    "    })\")\n",
    "    .finalize();\n",
    "\n",
    "map3.add_layer(velocity);"
   ]
  },
  {
   "cell_type": "code",
   "execution_count": null,
   "metadata": {},
   "outputs": [],
   "source": []
  }
 ],
 "metadata": {
  "kernelspec": {
   "display_name": "C++14",
   "language": "C++14",
   "name": "xeus-cling-cpp14"
  },
  "language_info": {
   "codemirror_mode": "text/x-c++src",
   "file_extension": ".cpp",
   "mimetype": "text/x-c++src",
   "name": "c++",
   "version": "-std=c++14"
  }
 },
 "nbformat": 4,
 "nbformat_minor": 2
}
