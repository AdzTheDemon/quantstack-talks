{
 "cells": [
  {
   "cell_type": "markdown",
   "metadata": {},
   "source": [
    "# The Julia Challenge in C++\n",
    "\n",
    "Julia developer Simon Danisch set out a \"challenge\" to other programming languages: implement fast array computing with broadcasting!\n",
    "\n",
    "https://nextjournal.com/sdanisch/the-julia-challenge\n",
    "\n",
    "\n",
    "This is quite elegant in Julia, but we thought: C++ can do this, too."
   ]
  },
  {
   "cell_type": "code",
   "execution_count": null,
   "metadata": {},
   "outputs": [],
   "source": [
    "#include <vector>\n",
    "#include <array>\n",
    "#include <tuple>\n",
    "#include <algorithm>\n",
    "#include <iostream>"
   ]
  },
  {
   "cell_type": "markdown",
   "metadata": {},
   "source": [
    "### Closure Type\n",
    "\n",
    "For modern C++: decide to store reference or value type depending on reference type (rvalue vs lvalue).\n",
    "\n",
    "Closure type compliments move semantics of STL, with perfect forwarding let's you tell who should own memory.\n",
    "\n",
    "- If `T&&` or `T`, store `T`\n",
    "- If `T&` store `T&`"
   ]
  },
  {
   "cell_type": "code",
   "execution_count": null,
   "metadata": {},
   "outputs": [],
   "source": [
    "template <class S>\n",
    "struct closure_type\n",
    "{\n",
    "    using underlying_type = std::conditional_t<std::is_const<std::remove_reference_t<S>>::value,\n",
    "                                               const std::decay_t<S>,\n",
    "                                               std::decay_t<S>>;\n",
    "\n",
    "    using type = typename std::conditional<std::is_lvalue_reference<S>::value,\n",
    "                                           underlying_type&,\n",
    "                                           underlying_type>::type;\n",
    "};\n",
    "\n",
    "template <class T>\n",
    "using closure_type_t = typename closure_type<T>::type;"
   ]
  },
  {
   "cell_type": "markdown",
   "metadata": {},
   "source": [
    "### We need a n-dimensional array class"
   ]
  },
  {
   "cell_type": "code",
   "execution_count": null,
   "metadata": {},
   "outputs": [],
   "source": [
    "template <class CT, std::size_t N>\n",
    "class qview\n",
    "{\n",
    "public:\n",
    "    using value_type = typename std::decay_t<CT>::value_type;\n",
    "\n",
    "    // Constructor to adapt a block of linear memory (data) to a n-dimensional shape\n",
    "    explicit qview(CT data, const ptrdiff_t (&i_shape)[N]);\n",
    "\n",
    "    // The indexing function\n",
    "    template <class... Args>\n",
    "    value_type& operator()(Args... args);\n",
    "\n",
    "    template <class... Args>\n",
    "    const value_type& operator()(Args... args) const;\n",
    "\n",
    "    // Note that shape and strides are stored in std::arrays to benefit from an allocation\n",
    "    // on the stack\n",
    "    std::array<ptrdiff_t, N> shape;\n",
    "    std::array<ptrdiff_t, N> strides;\n",
    "\n",
    "    closure_type_t<CT> memory;\n",
    "\n",
    "private:\n",
    "    // This function computes the row-major strides for a n-dimensional view on the data\n",
    "    // For more information on how array strides work, this Wikipedia article dives  \n",
    "    // further into the theory https://en.wikipedia.org/wiki/Stride_of_an_array\n",
    "    auto compute_strides();\n",
    "\n",
    "    // Special case: compute offset without arguments == 0\n",
    "    auto constexpr compute_offset() const;\n",
    "\n",
    "    template <class Arg, class... Args>\n",
    "    auto constexpr compute_offset(Arg a1, Args... args) const;\n",
    "};"
   ]
  },
  {
   "cell_type": "markdown",
   "metadata": {},
   "source": [
    "### Constructor"
   ]
  },
  {
   "cell_type": "code",
   "execution_count": null,
   "metadata": {},
   "outputs": [],
   "source": [
    "// Constructor to adapt a block of linear memory (data) to a n-dimensional shape\n",
    "template <class CT, std::size_t N>\n",
    "qview<CT, N>::qview(CT data, const ptrdiff_t (&i_shape)[N])\n",
    "    : memory(std::forward<CT>(data))\n",
    "{\n",
    "    std::copy(std::begin(i_shape), std::end(i_shape), shape.begin());\n",
    "\n",
    "    // The following function will compute the strides for the shape!\n",
    "    compute_strides();\n",
    "}"
   ]
  },
  {
   "cell_type": "markdown",
   "metadata": {},
   "source": [
    "### Strides computation\n",
    "\n",
    "Strides are computed so that multiplying a index with the strides produces the correct offset in linear block of memory"
   ]
  },
  {
   "cell_type": "code",
   "execution_count": null,
   "metadata": {},
   "outputs": [],
   "source": [
    "template <class CT, std::size_t N>\n",
    "auto qview<CT, N>::compute_strides()\n",
    "{\n",
    "    ptrdiff_t data_size = 1;\n",
    "    if constexpr (N > 0)\n",
    "    {\n",
    "        for (std::ptrdiff_t i = N - 1; i >= 0; --i)\n",
    "        {\n",
    "            // This is a trick for broadcasting: if the shape is 1 in dim (i), \n",
    "            // we set the stride to 0 to not move\n",
    "            strides[i] = shape[i] != 1 ? data_size : 0;\n",
    "            data_size *= shape[i];\n",
    "        }\n",
    "    }\n",
    "    return data_size;\n",
    "}"
   ]
  },
  {
   "cell_type": "markdown",
   "metadata": {},
   "source": [
    "### Compute offset functions\n",
    "\n",
    "Inner product of strides with index produces the memory offset\n",
    "\n",
    "$$\\text{offset} = \\sum_{i=0}^{N}{\\text{strides}[i] * \\text{index}[i]}$$"
   ]
  },
  {
   "cell_type": "code",
   "execution_count": null,
   "metadata": {},
   "outputs": [],
   "source": [
    "// Special case: compute offset without arguments == 0\n",
    "template <class CT, std::size_t N>\n",
    "auto constexpr qview<CT, N>::compute_offset() const\n",
    "{\n",
    "    return ptrdiff_t(0);\n",
    "} \n",
    "\n",
    "// And the \"real\" compute offset function\n",
    "template <class CT, std::size_t N>\n",
    "template <class Arg, class... Args>\n",
    "auto constexpr qview<CT, N>::compute_offset(Arg a1, Args... args) const\n",
    "{\n",
    "    // If we have more index arguments than dimensions, remove the first index\n",
    "    if constexpr (sizeof...(Args) + 1 > N)\n",
    "    {\n",
    "        return compute_offset(args...);\n",
    "    }\n",
    "    else\n",
    "    {\n",
    "        // unpack the arguments into an index and compute the inner product with the strides\n",
    "        std::array<ptrdiff_t, sizeof...(Args) + 1> idx({static_cast<long>(a1), static_cast<long>(args)...});\n",
    "        ptrdiff_t offset = 0;\n",
    "        for (std::size_t i = 0; i < N; ++i)\n",
    "        {\n",
    "            offset += strides[i] * idx[i];\n",
    "        }\n",
    "        return offset;\n",
    "    }\n",
    "}"
   ]
  },
  {
   "cell_type": "markdown",
   "metadata": {},
   "source": [
    "### Access operator"
   ]
  },
  {
   "cell_type": "code",
   "execution_count": null,
   "metadata": {},
   "outputs": [],
   "source": [
    "// The indexing function\n",
    "template <class CT, std::size_t N>\n",
    "template <class... Args>\n",
    "auto qview<CT, N>::operator()(Args... args) -> value_type&\n",
    "{\n",
    "    std::size_t offset = compute_offset(args...);\n",
    "    return memory[offset];\n",
    "}"
   ]
  },
  {
   "cell_type": "code",
   "execution_count": null,
   "metadata": {},
   "outputs": [],
   "source": [
    "// The indexing function\n",
    "template <class CT, std::size_t N>\n",
    "template <class... Args>\n",
    "auto qview<CT, N>::operator()(Args... args) const -> const value_type&\n",
    "{\n",
    "    std::size_t offset = compute_offset(args...);\n",
    "    return memory[offset];\n",
    "}"
   ]
  },
  {
   "cell_type": "markdown",
   "metadata": {},
   "source": [
    "### Now we can create a qview!"
   ]
  },
  {
   "cell_type": "code",
   "execution_count": null,
   "metadata": {},
   "outputs": [],
   "source": [
    "auto v = std::vector<double>({1,2,3,4,5,6,7,8,9});"
   ]
  },
  {
   "cell_type": "code",
   "execution_count": null,
   "metadata": {},
   "outputs": [],
   "source": [
    "auto qv = qview{v, {3, 3}};"
   ]
  },
  {
   "cell_type": "markdown",
   "metadata": {},
   "source": [
    "The contents of the `qv` should look like \n",
    "\n",
    "```\n",
    "1, 2, 3\n",
    "4, 5, 6\n",
    "7, 8, 9\n",
    "```"
   ]
  },
  {
   "cell_type": "code",
   "execution_count": null,
   "metadata": {},
   "outputs": [],
   "source": [
    "qv(2, 1)"
   ]
  },
  {
   "cell_type": "markdown",
   "metadata": {},
   "source": [
    "### Implicit broadcasting"
   ]
  },
  {
   "cell_type": "code",
   "execution_count": null,
   "metadata": {},
   "outputs": [],
   "source": [
    "auto qv2 = qview{v, {3, 1, 1, 3}};"
   ]
  },
  {
   "cell_type": "code",
   "execution_count": null,
   "metadata": {},
   "outputs": [],
   "source": [
    "std::cout << qv(1, 2) << \" == \" <<\n",
    "             qv(5, 10, 1, 2) << \" == \" << \n",
    "            qv2(1, 10, 4, 2);"
   ]
  },
  {
   "cell_type": "markdown",
   "metadata": {},
   "source": [
    "### max dim helper function\n",
    "\n",
    "Finds the static, largest extent of multiple `std::array`'s"
   ]
  },
  {
   "cell_type": "code",
   "execution_count": null,
   "metadata": {},
   "outputs": [],
   "source": [
    "template <class... Args>\n",
    "constexpr auto max_dim() {\n",
    "    constexpr auto arr = std::array<size_t, sizeof...(Args)>{std::tuple_size<Args>::value...};\n",
    "    return *std::max_element(arr.begin(), arr.end());\n",
    "}"
   ]
  },
  {
   "cell_type": "markdown",
   "metadata": {},
   "source": [
    "### A class for a lazy \"qfunction\""
   ]
  },
  {
   "cell_type": "code",
   "execution_count": null,
   "metadata": {},
   "outputs": [],
   "source": [
    "// A simple lazy, broadcasting function\n",
    "template <class F, class... X>\n",
    "class qfunction\n",
    "{\n",
    "public:\n",
    "    \n",
    "    F f; // the functor\n",
    "    \n",
    "    // with the max_dim constexpr function we compute the largest shape size on all arguments\n",
    "    std::array<std::ptrdiff_t, max_dim<std::decay_t<decltype(std::declval<X>().shape)>...>()> shape;\n",
    "    std::tuple<X...> args;\n",
    "\n",
    "    qfunction(F i_f, X... i_args);\n",
    "    \n",
    "    // We unpack the index into all arguments and put them all into our functor!\n",
    "    template <std::size_t... I, class... Idxs>\n",
    "    auto access_impl(std::index_sequence<I...>, Idxs... idxs) const;\n",
    "    \n",
    "    template <class... Idx>\n",
    "    auto operator()(Idx... idxs) const;\n",
    "};"
   ]
  },
  {
   "cell_type": "markdown",
   "metadata": {},
   "source": [
    "# tuple for each helper function\n",
    "\n",
    "Necessary to iterate through all expression leafs stored in the qfunction"
   ]
  },
  {
   "cell_type": "code",
   "execution_count": null,
   "metadata": {},
   "outputs": [],
   "source": [
    "template <typename T, typename F, std::size_t... I>\n",
    "void for_each_impl(F&& f, T&& tuple, std::index_sequence<I...>) {\n",
    "    (void) std::initializer_list<int>{\n",
    "        (f(std::get<I>(std::forward<T>(tuple))), void(), int{})...\n",
    "    };\n",
    "}\n",
    "\n",
    "template <typename T, typename F>\n",
    "void for_each(F&& f, T&& tuple) {\n",
    "    constexpr std::size_t N = std::tuple_size<std::decay_t<T>>::value;\n",
    "    for_each_impl(std::forward<F>(f), std::forward<T>(tuple),\n",
    "                  std::make_index_sequence<N>{});\n",
    "}"
   ]
  },
  {
   "cell_type": "markdown",
   "metadata": {},
   "source": [
    "### The constructor for the qfunction\n",
    "\n",
    "Computes the broadcast shape for all function arguments.\n",
    "\n",
    "- If both extents != 1, extents have to agree\n",
    "- If either of the extents is `1`, bigger one is chosen\n",
    "- Shapes are implicitly extended to the left with 1\n",
    "\n",
    "E.g. leads to \n",
    "```\n",
    "broadcast { (3, 4), (3, 3, 1) }\n",
    "            \n",
    "            (1) 3, 4\n",
    "             3, 3, 1 \n",
    "           ===========\n",
    "             3, 3, 4\n",
    "```\n"
   ]
  },
  {
   "cell_type": "code",
   "execution_count": null,
   "metadata": {},
   "outputs": [],
   "source": [
    "template <class F, class... X>\n",
    "qfunction<F, X...>::qfunction(F i_f, X... i_args)\n",
    "    : f(i_f), args(i_args...)\n",
    "{\n",
    "    std::fill(shape.begin(), shape.end(), 1);\n",
    "\n",
    "    // Lambda to compute the broadcasted shape\n",
    "    auto broadcast_shape = [this](const auto& v) constexpr {\n",
    "        // we need the offset to \"align\" the shapes at the end\n",
    "        // the size of the shape of the function is the max size of all arguments\n",
    "        std::size_t offset = this->shape.size() - v.shape.size();\n",
    "        for (std::size_t i = 0; i < v.shape.size(); ++i)\n",
    "        {\n",
    "            if (this->shape[offset + i] == 1)\n",
    "            {\n",
    "                this->shape[offset + i] = v.shape[i];                \n",
    "            }\n",
    "            else\n",
    "            {\n",
    "                if (v.shape[i] != this->shape[offset + i] && v.shape[i] != 1)\n",
    "                    throw std::runtime_error(\"Broadcast error.\");                \n",
    "            }\n",
    "        }\n",
    "        return true;\n",
    "    };\n",
    "    // broadcast shape of all arguments\n",
    "    for_each(broadcast_shape, args);\n",
    "}"
   ]
  },
  {
   "cell_type": "markdown",
   "metadata": {},
   "source": [
    "### Accessing & lazily computing function\n",
    "\n",
    "... by unpacking elements of args at `idx` into functor `f` "
   ]
  },
  {
   "cell_type": "code",
   "execution_count": null,
   "metadata": {},
   "outputs": [],
   "source": [
    "template <class F, class... X>\n",
    "template <std::size_t... I, class... Idxs>\n",
    "auto qfunction<F, X...>::access_impl(std::index_sequence<I...>, Idxs... idxs) const\n",
    "{ \n",
    "    return f(std::get<I>(args)(idxs...)...); \n",
    "}"
   ]
  },
  {
   "cell_type": "code",
   "execution_count": null,
   "metadata": {},
   "outputs": [],
   "source": [
    "template <class F, class... X>\n",
    "template <class... Idxs>\n",
    "auto qfunction<F, X...>::operator()(Idxs... idxs) const\n",
    "{\n",
    "    return access_impl(std::make_index_sequence<sizeof...(X)>(), idxs...);\n",
    "}"
   ]
  },
  {
   "cell_type": "markdown",
   "metadata": {},
   "source": [
    "### Make qfunction helper function\n",
    "\n",
    "Uses `closure_type_t` to store rvalues correctly."
   ]
  },
  {
   "cell_type": "code",
   "execution_count": null,
   "metadata": {},
   "outputs": [],
   "source": [
    "template <class L, class... Args>\n",
    "auto make_qfunction(L func, Args&&... args)\n",
    "{\n",
    "    return qfunction<L, closure_type_t<Args>...>(func, std::forward<Args>(args)...);\n",
    "}"
   ]
  },
  {
   "cell_type": "code",
   "execution_count": null,
   "metadata": {},
   "outputs": [],
   "source": [
    "// And here we define the operator+ for qviews, returning a lazy qfunction\n",
    "template <class L, class R>\n",
    "auto operator+(L&& lexpr, R&& rexpr) {\n",
    "    return make_qfunction([](const auto& lhs, const auto& rhs) { \n",
    "        return lhs + rhs;\n",
    "    }, std::forward<L>(lexpr), std::forward<R>(rexpr));\n",
    "}"
   ]
  },
  {
   "cell_type": "code",
   "execution_count": null,
   "metadata": {},
   "outputs": [],
   "source": [
    "auto qf = qv + qv"
   ]
  },
  {
   "cell_type": "code",
   "execution_count": null,
   "metadata": {},
   "outputs": [],
   "source": [
    "qv(0, 1)"
   ]
  },
  {
   "cell_type": "code",
   "execution_count": null,
   "metadata": {},
   "outputs": [],
   "source": [
    "qf(0, 1)"
   ]
  },
  {
   "cell_type": "code",
   "execution_count": null,
   "metadata": {},
   "outputs": [],
   "source": [
    "template <class T>\n",
    "void print_type(T t)\n",
    "{\n",
    "    std::cout << __PRETTY_FUNCTION__ << std::endl;\n",
    "}"
   ]
  },
  {
   "cell_type": "code",
   "execution_count": null,
   "metadata": {},
   "outputs": [],
   "source": [
    "print_type(qf)"
   ]
  },
  {
   "cell_type": "markdown",
   "metadata": {},
   "source": [
    "### Recursive for\n",
    "\n",
    "The recursive for starts with no arguments at all, and then runs a for loop for every dimension, counting up. \n",
    "For each static dimension, a new for loop is created, resulting in something like this:\n",
    "\n",
    "```c++\n",
    "for (i = 0; i < shape[0]; i++)\n",
    "   for (j = 0; j < shape[1]; j++)...\n",
    "      f(i, j, ...); // function call!\n",
    "```\n",
    "\n",
    "Where `f` is a lambda!"
   ]
  },
  {
   "cell_type": "code",
   "execution_count": null,
   "metadata": {},
   "outputs": [],
   "source": [
    "template <std::size_t N, std::size_t I = 0, class... Funcs, class... Idxs>\n",
    "auto recursive_for(const std::tuple<Funcs...>& func, Idxs... idxs) {\n",
    "    if constexpr (I == N)\n",
    "    {\n",
    "        for (std::size_t i = 0; i < std::get<0>(func).shape[I]; ++i)\n",
    "        {\n",
    "            std::get<0>(func)(idxs..., i);        \n",
    "        }\n",
    "    }\n",
    "    else\n",
    "    {\n",
    "        for (std::size_t i = 0; i < std::get<0>(func).shape[I]; ++i)\n",
    "        {\n",
    "            if constexpr (sizeof...(Funcs) > N) { std::get<N>(func)(idxs..., i); }\n",
    "            \n",
    "            // call recursively!\n",
    "            recursive_for<N, I + 1>(func, idxs..., i);\n",
    "        }\n",
    "    }\n",
    "}"
   ]
  },
  {
   "cell_type": "markdown",
   "metadata": {},
   "source": [
    "### A simple print qfunction!"
   ]
  },
  {
   "cell_type": "code",
   "execution_count": null,
   "metadata": {},
   "outputs": [],
   "source": [
    "template <class T>\n",
    "void print(const T& array) {\n",
    "    auto func = make_qfunction([](auto&& el) { std::cout << el << \", \"; }, array);\n",
    "    // call the recursive_for on all elements!\n",
    "    recursive_for<1>(\n",
    "        std::make_tuple(func, \n",
    "                        [](auto) { std::cout << \"\\n\"; }));\n",
    "}"
   ]
  },
  {
   "cell_type": "code",
   "execution_count": null,
   "metadata": {},
   "outputs": [],
   "source": [
    "print(qv)"
   ]
  },
  {
   "cell_type": "code",
   "execution_count": null,
   "metadata": {},
   "outputs": [],
   "source": [
    "qv(2, 1) = 1000;"
   ]
  },
  {
   "cell_type": "code",
   "execution_count": null,
   "metadata": {},
   "outputs": [],
   "source": [
    "print(qv)"
   ]
  },
  {
   "cell_type": "code",
   "execution_count": null,
   "metadata": {},
   "outputs": [],
   "source": [
    "print(qf + qv + qv)"
   ]
  },
  {
   "cell_type": "code",
   "execution_count": null,
   "metadata": {},
   "outputs": [],
   "source": [
    "// If we want to assign the result of a qfunction to a qview, we need \n",
    "// an assign function:\n",
    "template <class T, class E>\n",
    "auto assign_func(T& larr, E& rexpr)\n",
    "{\n",
    "    // note that the lhs argument is a reference!\n",
    "    auto func = make_qfunction([](auto& lhs, auto rhs) {\n",
    "        lhs = rhs; \n",
    "    }, larr, rexpr);\n",
    "    \n",
    "    recursive_for<std::tuple_size_v<decltype(func.shape)> - 1>(std::make_tuple(func));\n",
    "}"
   ]
  },
  {
   "cell_type": "code",
   "execution_count": null,
   "metadata": {},
   "outputs": [],
   "source": [
    "auto res = qview{std::vector<double>(9), {3, 3}};"
   ]
  },
  {
   "cell_type": "code",
   "execution_count": null,
   "metadata": {},
   "outputs": [],
   "source": [
    "print(res)"
   ]
  },
  {
   "cell_type": "code",
   "execution_count": null,
   "metadata": {},
   "outputs": [],
   "source": [
    "assign_func(res, qf)"
   ]
  },
  {
   "cell_type": "code",
   "execution_count": null,
   "metadata": {},
   "outputs": [],
   "source": [
    "print(res)"
   ]
  },
  {
   "cell_type": "code",
   "execution_count": null,
   "metadata": {},
   "outputs": [],
   "source": [
    "auto bcv = qview{std::vector<double>(3), {3}};\n",
    "bcv(0) = -1000;\n",
    "bcv(1) = 1;\n",
    "bcv(2) = -1000;"
   ]
  },
  {
   "cell_type": "markdown",
   "metadata": {},
   "source": [
    "`bcv = {-1, 1, -1}`"
   ]
  },
  {
   "cell_type": "code",
   "execution_count": null,
   "metadata": {},
   "outputs": [],
   "source": [
    "print(res + bcv)"
   ]
  },
  {
   "cell_type": "markdown",
   "metadata": {},
   "source": [
    "# Link to \"real\" implementation\n",
    "\n",
    "https://github.com/SimonDanisch/julia-challenge/blob/master/cpp/stl/main.cpp"
   ]
  }
 ],
 "metadata": {
  "kernelspec": {
   "display_name": "C++17",
   "language": "C++17",
   "name": "xeus-cling-cpp17"
  },
  "language_info": {
   "codemirror_mode": "text/x-c++src",
   "file_extension": ".cpp",
   "mimetype": "text/x-c++src",
   "name": "c++",
   "version": "-std=c++17"
  }
 },
 "nbformat": 4,
 "nbformat_minor": 2
}
