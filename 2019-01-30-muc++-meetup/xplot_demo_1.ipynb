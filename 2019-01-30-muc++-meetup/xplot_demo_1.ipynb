{
 "cells": [
  {
   "cell_type": "markdown",
   "metadata": {},
   "source": [
    "# xplot\n",
    "\n",
    "- Interactive plotting for Jupyter notebook\n",
    "- Based on bqplot javascript side"
   ]
  },
  {
   "cell_type": "code",
   "execution_count": null,
   "metadata": {},
   "outputs": [],
   "source": [
    "#include \"xwidgets/xlabel.hpp\"\n",
    "#include \"xplot/xfigure.hpp\"\n",
    "#include \"xplot/xmarks.hpp\"\n",
    "#include \"xplot/xaxes.hpp\"\n",
    "\n",
    "xpl::linear_scale sx, sy;\n",
    "\n",
    "auto ax_x = xpl::axis_generator(sx)\n",
    "    .label(\"x\")\n",
    "    .finalize();\n",
    "\n",
    "auto ax_y = xpl::axis_generator(sy)\n",
    "    .label(\"y\")\n",
    "    .orientation(\"vertical\")\n",
    "    .side(\"left\")\n",
    "    .finalize();\n",
    "\n",
    "xpl::lines line(sx, sy);\n",
    "line.x = std::vector<double>({0, 20});\n",
    "line.y = std::vector<double>({5, 8});"
   ]
  },
  {
   "cell_type": "code",
   "execution_count": null,
   "metadata": {},
   "outputs": [],
   "source": [
    "auto fig1 = xpl::figure_generator()\n",
    "    .padding_x(0.025)\n",
    "    .padding_y(0.025)\n",
    "    .finalize();\n",
    "\n",
    "fig1.add_mark(line);\n",
    "fig1.add_axis(ax_x);\n",
    "fig1.add_axis(ax_y);\n",
    "fig1"
   ]
  },
  {
   "cell_type": "code",
   "execution_count": null,
   "metadata": {},
   "outputs": [],
   "source": [
    "#include <xtensor/xtensor.hpp>\n",
    "\n",
    "line.x = xt::arange<double>(0, 20, 0.5);\n",
    "line.y = xt::sin(xt::arange<double>(0, 20, 0.5) / 2);"
   ]
  },
  {
   "cell_type": "code",
   "execution_count": null,
   "metadata": {},
   "outputs": [],
   "source": [
    "#include <chrono>\n",
    "#include <thread>\n",
    "\n",
    "for (auto i : xt::arange<double>(10.))\n",
    "{\n",
    "    line.x = xt::arange<double>(0, 20, 0.5);\n",
    "    line.y = xt::sin(xt::arange<double>(0, 20, 0.5) / (10. - i));\n",
    "    ax_x.label = \"x = \" + std::to_string(i);\n",
    "    std::this_thread::sleep_for(std::chrono::milliseconds(300));\n",
    "}"
   ]
  },
  {
   "cell_type": "code",
   "execution_count": null,
   "metadata": {},
   "outputs": [],
   "source": []
  }
 ],
 "metadata": {
  "kernelspec": {
   "display_name": "C++14",
   "language": "C++14",
   "name": "xeus-cling-cpp14"
  },
  "language_info": {
   "codemirror_mode": "text/x-c++src",
   "file_extension": ".cpp",
   "mimetype": "text/x-c++src",
   "name": "c++",
   "version": "-std=c++14"
  }
 },
 "nbformat": 4,
 "nbformat_minor": 2
}
