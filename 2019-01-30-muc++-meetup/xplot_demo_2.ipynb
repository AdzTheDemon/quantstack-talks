{
 "cells": [
  {
   "cell_type": "markdown",
   "metadata": {},
   "source": [
    "# xplot\n",
    "\n",
    "- Interactive plotting for Jupyter notebook\n",
    "- Based on bqplot javascript side"
   ]
  },
  {
   "cell_type": "code",
   "execution_count": null,
   "metadata": {},
   "outputs": [],
   "source": [
    "#include \"./random.hpp\"\n",
    "#include \"xwidgets/xlabel.hpp\"\n",
    "#include \"xplot/xfigure.hpp\"\n",
    "#include \"xplot/xmarks.hpp\"\n",
    "#include \"xplot/xaxes.hpp\"\n",
    "\n",
    "#include \"xtensor/xtensor.hpp\"\n",
    "#include \"xtensor/xrandom.hpp\"\n",
    "\n",
    "std::size_t size = 20;\n",
    "// xt::xtensor<double, 1> x_data = xt::xtensor<double, 1>::from_shape({size});\n",
    "std::vector<double> x_data(size);\n",
    "std::iota(x_data.begin(), x_data.end(), 0);\n",
    "\n",
    "std::vector<double> y_data = randn(size);\n",
    "// xt::xtensor<double, 1> y_data(xt::random::randn<double>({size}));\n",
    "xpl::linear_scale sx, sy;"
   ]
  },
  {
   "cell_type": "code",
   "execution_count": null,
   "metadata": {},
   "outputs": [],
   "source": [
    "auto ax_x = xpl::axis_generator(sx)\n",
    "    .label(\"x\")\n",
    "    .finalize();\n",
    "\n",
    "auto ax_y = xpl::axis_generator(sy)\n",
    "    .label(\"y\")\n",
    "    .orientation(\"vertical\")\n",
    "    .side(\"left\")\n",
    "    .finalize();"
   ]
  },
  {
   "cell_type": "code",
   "execution_count": null,
   "metadata": {},
   "outputs": [],
   "source": [
    "auto scatter1 = xpl::scatter_generator(sx, sy)\n",
    "   .x(x_data)\n",
    "   .y(y_data)\n",
    "   .enable_move(true)\n",
    "   .finalize();"
   ]
  },
  {
   "cell_type": "code",
   "execution_count": null,
   "metadata": {},
   "outputs": [],
   "source": [
    "xpl::lines line(sx, sy);\n",
    "line.x = std::vector<double>({0, double(size)});\n",
    "line.y = std::vector<double>({5, 8});"
   ]
  },
  {
   "cell_type": "code",
   "execution_count": null,
   "metadata": {},
   "outputs": [],
   "source": [
    "auto fig1 = xpl::figure_generator()\n",
    "    .padding_x(0.025)\n",
    "    .padding_y(0.025)\n",
    "    .finalize();\n",
    "\n",
    "fig1.add_mark(scatter1);\n",
    "fig1.add_mark(line);\n",
    "fig1.add_axis(ax_x);\n",
    "fig1.add_axis(ax_y);\n",
    "fig1"
   ]
  },
  {
   "cell_type": "code",
   "execution_count": null,
   "metadata": {},
   "outputs": [],
   "source": [
    "scatter1.colors = std::vector<xtl::xoptional<std::string>>{\"red\"};"
   ]
  },
  {
   "cell_type": "code",
   "execution_count": null,
   "metadata": {},
   "outputs": [],
   "source": [
    "scatter1.marker = \"cross\";"
   ]
  },
  {
   "cell_type": "code",
   "execution_count": null,
   "metadata": {},
   "outputs": [],
   "source": [
    "scatter1.default_opacities = std::vector<double>({0.3, 0.5, 1.});"
   ]
  },
  {
   "cell_type": "code",
   "execution_count": null,
   "metadata": {},
   "outputs": [],
   "source": [
    "xw::label label;\n",
    "label"
   ]
  },
  {
   "cell_type": "code",
   "execution_count": null,
   "metadata": {},
   "outputs": [],
   "source": [
    "inline void info(const ::xeus::xjson& content) {\n",
    "    label.value = std::to_string(static_cast<double>(content[\"point\"][\"x\"])) \n",
    "                + \" \" \n",
    "                + std::to_string(static_cast<double>(content[\"point\"][\"y\"]));\n",
    "    \n",
    "    const std::vector<double>& ref = scatter1.y();\n",
    "    double mean = std::accumulate(ref.begin(), ref.end(), 0.0) / double(ref.size());\n",
    "    line.y = std::vector<double>({mean, mean});\n",
    "};"
   ]
  },
  {
   "cell_type": "code",
   "execution_count": null,
   "metadata": {},
   "outputs": [],
   "source": [
    "scatter1.on_drag(info);\n",
    "scatter1.on_drag_start(info);\n",
    "scatter1.on_drag_end(info);"
   ]
  },
  {
   "cell_type": "code",
   "execution_count": null,
   "metadata": {},
   "outputs": [],
   "source": [
    "fig1"
   ]
  },
  {
   "cell_type": "code",
   "execution_count": null,
   "metadata": {},
   "outputs": [],
   "source": []
  }
 ],
 "metadata": {
  "kernelspec": {
   "display_name": "C++14",
   "language": "C++14",
   "name": "xeus-cling-cpp14"
  },
  "language_info": {
   "codemirror_mode": "text/x-c++src",
   "file_extension": ".cpp",
   "mimetype": "text/x-c++src",
   "name": "c++",
   "version": "-std=c++14"
  }
 },
 "nbformat": 4,
 "nbformat_minor": 2
}
