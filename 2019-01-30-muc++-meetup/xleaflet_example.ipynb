{
 "cells": [
  {
   "cell_type": "markdown",
   "metadata": {},
   "source": [
    "# xleaflet\n",
    "\n",
    "- Based on ipyleaflet & leaflet.js"
   ]
  },
  {
   "cell_type": "code",
   "execution_count": null,
   "metadata": {},
   "outputs": [],
   "source": [
    "#include \"xleaflet/xmap.hpp\"\n",
    "#include \"xleaflet/xtile_layer.hpp\"\n",
    "#include \"xleaflet/xmarker.hpp\"\n",
    "#include \"xleaflet/xmarker_cluster.hpp\""
   ]
  },
  {
   "cell_type": "code",
   "execution_count": null,
   "metadata": {},
   "outputs": [],
   "source": [
    "auto map = xlf::map_generator()\n",
    "    .center({50, 354})\n",
    "    .zoom(5)\n",
    "    .finalize();\n",
    "map"
   ]
  },
  {
   "cell_type": "code",
   "execution_count": null,
   "metadata": {},
   "outputs": [],
   "source": [
    "auto nasa_layer = xlf::tile_layer_generator()\n",
    "    .url(\"https://map1.vis.earthdata.nasa.gov/wmts-webmerc/MODIS_Terra_CorrectedReflectance_TrueColor/default/2018-08-01/GoogleMapsCompatible_Level9/{z}/{y}/{x}.jpg\")\n",
    "    .name(\"NASAGIBS.ModisTerraTrueColorCR\")\n",
    "    .attribution(\"Imagery provided by services from the Global Imagery Browse Services (GIBS), operated by the NASA/GSFC/Earth Science Data and Information System (<a href=\\\"https://earthdata.nasa.gov\\\">ESDIS</a>) with funding provided by NASA/HQ.\")\n",
    "    .max_zoom(9)\n",
    "    .opacity(0.6)\n",
    "    .finalize();\n",
    "map.add_layer(nasa_layer);"
   ]
  },
  {
   "cell_type": "code",
   "execution_count": null,
   "metadata": {},
   "outputs": [],
   "source": [
    "auto marker1 = xlf::marker_generator()\n",
    "    .location({50, 354})\n",
    "    .finalize();\n",
    "auto marker2 = xlf::marker_generator()\n",
    "    .location({52, 356})\n",
    "    .finalize();\n",
    "auto marker3 = xlf::marker_generator()\n",
    "    .location({48, 352})\n",
    "    .finalize();\n",
    "auto marker_cluster = xlf::marker_cluster_generator()\n",
    "    .markers({marker1, marker2, marker3})\n",
    "    .finalize();\n",
    "map.add_layer(marker_cluster);"
   ]
  },
  {
   "cell_type": "code",
   "execution_count": null,
   "metadata": {},
   "outputs": [],
   "source": [
    "std::cout << marker1.location()[0] << \", \" << marker1.location()[1] << std::endl;"
   ]
  },
  {
   "cell_type": "code",
   "execution_count": null,
   "metadata": {},
   "outputs": [],
   "source": [
    "#include \"xleaflet/xvelocity.hpp\"\n",
    "\n",
    "auto vmap = xlf::map_generator()\n",
    "    .center({37.58, 261.65})\n",
    "    .zoom(5)\n",
    "    .finalize();\n",
    "\n",
    "auto base_layer = xlf::basemap({\"CartoDB\", \"DarkMatter\"});\n",
    "vmap.add_layer(base_layer);\n",
    "\n",
    "vmap"
   ]
  },
  {
   "cell_type": "code",
   "execution_count": null,
   "metadata": {},
   "outputs": [],
   "source": [
    "#include \"nlohmann/json.hpp\"\n",
    "#include <fstream>\n",
    "\n",
    "std::ifstream file(\"/home/wolfv/Programs/xleaflet/notebooks/velocity_data.json\");\n",
    "nlohmann::json data;\n",
    "file >> data;\n",
    "\n",
    "auto velocity = xlf::velocity_generator()\n",
    "    .data(data)\n",
    "    .velocity_scale(0.01)\n",
    "    .max_velocity(20)\n",
    "    .display_options(R\"({\n",
    "        \"velocityType\": \"Global Wind\",\n",
    "        \"displayPosition\": \"bottomleft\",\n",
    "        \"displayEmptyString\": \"No wind data\"\n",
    "    })\")\n",
    "    .finalize();\n",
    "\n",
    "vmap.add_layer(velocity);"
   ]
  },
  {
   "cell_type": "code",
   "execution_count": null,
   "metadata": {},
   "outputs": [],
   "source": []
  }
 ],
 "metadata": {
  "kernelspec": {
   "display_name": "C++14",
   "language": "C++14",
   "name": "xeus-cling-cpp14"
  },
  "language_info": {
   "codemirror_mode": "text/x-c++src",
   "file_extension": ".cpp",
   "mimetype": "text/x-c++src",
   "name": "c++",
   "version": "-std=c++14"
  }
 },
 "nbformat": 4,
 "nbformat_minor": 2
}
