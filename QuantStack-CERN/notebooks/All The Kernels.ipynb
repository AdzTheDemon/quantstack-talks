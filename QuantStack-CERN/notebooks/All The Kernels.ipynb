{
 "cells": [
  {
   "cell_type": "code",
   "execution_count": 1,
   "metadata": {},
   "outputs": [
    {
     "name": "stdout",
     "output_type": "stream",
     "text": [
      "HELLO C++ 14! 1.93951"
     ]
    }
   ],
   "source": [
    ">xeus-cling-cpp14\n",
    "\n",
    "#include <iostream>\n",
    "#include \"demo.cpp\"\n",
    "\n",
    "std::cout << \"HELLO C++ 14! \" << sum_of_sines(xt::arange<double>(10000.0));"
   ]
  },
  {
   "cell_type": "markdown",
   "metadata": {},
   "source": [
    "### Python: pybind11 + xtensor-python\n",
    "\n",
    "We need to add some wrapper code using pybind11\n",
    "\n",
    "```cpp\n",
    "#ifdef XPYTHON\n",
    "#include \"pybind11/pybind11.h\"            // Pybind11 import to define Python bindings\n",
    "#define FORCE_IMPORT_ARRAY\n",
    "#include \"xtensor-python/pyarray.hpp\"     // Numpy bindings\n",
    "\n",
    "PYBIND11_MODULE(xtensor_python_test, m)\n",
    "{\n",
    "    xt::import_numpy();\n",
    "    m.doc() = \"Test module for xtensor python bindings\";\n",
    "\n",
    "    m.def(\"sum_of_sines\", sum_of_sines<xt::pyarray<double, xt::layout_type::row_major>>,\n",
    "                          \"Sum the sines of the input values\");\n",
    "}\n",
    "#endif\n",
    "```"
   ]
  },
  {
   "cell_type": "code",
   "execution_count": 1,
   "metadata": {},
   "outputs": [],
   "source": [
    "%%bash\n",
    "rm -f xpython.cpp\n",
    "\n",
    "cp demo.cpp xpython.cpp\n",
    "\n",
    "cat << EOF >> xpython.cpp\n",
    "#include \"pybind11/pybind11.h\"            // Pybind11 import to define Python bindings\n",
    "#define FORCE_IMPORT_ARRAY\n",
    "#include \"xtensor-python/pyarray.hpp\"     // Numpy bindings\n",
    "\n",
    "PYBIND11_MODULE(xpython, m)\n",
    "{\n",
    "    xt::import_numpy();\n",
    "    m.doc() = \"Test module for xtensor python bindings\";\n",
    "\n",
    "    m.def(\"sum_of_sines\", sum_of_sines<xt::pyarray<double, xt::layout_type::row_major>>,\n",
    "                          \"Sum the sines of the input values\");\n",
    "}\n",
    "EOF"
   ]
  },
  {
   "cell_type": "code",
   "execution_count": 2,
   "metadata": {},
   "outputs": [
    {
     "data": {
      "text/plain": [
       "'3.6.5 |Anaconda, Inc.| (default, Apr 26 2018, 08:42:37) \\n[GCC 4.2.1 Compatible Clang 4.0.1 (tags/RELEASE_401/final)]'"
      ]
     },
     "execution_count": 2,
     "metadata": {},
     "output_type": "execute_result"
    }
   ],
   "source": [
    ">python3\n",
    "import sys\n",
    "sys.version"
   ]
  },
  {
   "cell_type": "code",
   "execution_count": 103,
   "metadata": {},
   "outputs": [],
   "source": [
    "%%bash\n",
    "\n",
    "/usr/bin/g++ -w -shared -fPIC -std=c++14 \\\n",
    "    -lpython3.6m \\\n",
    "    -L/Users/scorlay/miniconda3/python.app/Contents/lib \\\n",
    "    -I/Users/scorlay/miniconda3/include/ \\\n",
    "    -I/Users/scorlay/miniconda3/include/python3.6m \\\n",
    "    -I/Users/scorlay/miniconda3/lib/python3.6/site-packages/numpy/core/include/ \\\n",
    "    xpython.cpp -o xtensor_python_test.so"
   ]
  },
  {
   "cell_type": "code",
   "execution_count": 104,
   "metadata": {},
   "outputs": [
    {
     "ename": "ImportError",
     "evalue": "dynamic module does not define module export function (PyInit_xtensor_python_test)",
     "output_type": "error",
     "traceback": [
      "\u001b[0;31m---------------------------------------------------------------------------\u001b[0m",
      "\u001b[0;31mImportError\u001b[0m                               Traceback (most recent call last)",
      "\u001b[0;32m<ipython-input-104-c59ee4c615ed>\u001b[0m in \u001b[0;36m<module>\u001b[0;34m()\u001b[0m\n\u001b[1;32m      1\u001b[0m \u001b[0;34m\u001b[0m\u001b[0m\n\u001b[1;32m      2\u001b[0m \u001b[0;32mimport\u001b[0m \u001b[0mnumpy\u001b[0m \u001b[0;32mas\u001b[0m \u001b[0mnp\u001b[0m\u001b[0;34m\u001b[0m\u001b[0m\n\u001b[0;32m----> 3\u001b[0;31m \u001b[0;32mfrom\u001b[0m \u001b[0mxtensor_python_test\u001b[0m \u001b[0;32mimport\u001b[0m \u001b[0msum_of_sines\u001b[0m\u001b[0;34m\u001b[0m\u001b[0m\n\u001b[0m\u001b[1;32m      4\u001b[0m \u001b[0;34m\u001b[0m\u001b[0m\n\u001b[1;32m      5\u001b[0m \u001b[0mx\u001b[0m \u001b[0;34m=\u001b[0m \u001b[0mnp\u001b[0m\u001b[0;34m.\u001b[0m\u001b[0marange\u001b[0m\u001b[0;34m(\u001b[0m\u001b[0;36m10000.0\u001b[0m\u001b[0;34m)\u001b[0m\u001b[0;34m\u001b[0m\u001b[0m\n",
      "\u001b[0;31mImportError\u001b[0m: dynamic module does not define module export function (PyInit_xtensor_python_test)"
     ]
    }
   ],
   "source": [
    ">python3\n",
    "\n",
    "import numpy as np\n",
    "from xtensor_python_test import sum_of_sines\n",
    "\n",
    "x = np.arange(10000.0)\n",
    "print(\"NumPy  : \", np.sum(np.sin(x)))\n",
    "print(\"xtensor: \", sum_of_sines(x))"
   ]
  },
  {
   "cell_type": "markdown",
   "metadata": {},
   "source": [
    "### R: Rcpp + xtensor-r\n",
    "\n",
    "Again, a couple of lines of wrapper code.\n",
    "\n",
    "```c++\n",
    "#include <xtensor-r/rarray.hpp>       // R bindings\n",
    "#include <Rcpp.h>\n",
    "\n",
    "using namespace Rcpp;\n",
    "\n",
    "// [[Rcpp::plugins(cpp14)]]\n",
    "// [[Rcpp::export]]\n",
    "double sum_of_sines(const xt::rarray<double>& e)\n",
    "{\n",
    "    return sum_of_sines_impl(e);\n",
    "}\n",
    "#endif\n",
    "```"
   ]
  },
  {
   "cell_type": "code",
   "execution_count": null,
   "metadata": {},
   "outputs": [],
   "source": [
    "%%bash\n",
    "rm -f xr.cpp\n",
    "cp demo.cpp xr.cpp\n",
    "\n",
    "cat << EOF >> xr.cpp\n",
    "#include <xtensor-r/rarray.hpp>       // R bindings\n",
    "#include <Rcpp.h>\n",
    "using namespace Rcpp;\n",
    "// [[Rcpp::plugins(cpp14)]]\n",
    "// [[Rcpp::export]]\n",
    "double rsum_of_sines(const xt::rarray<double>& e) {\n",
    "    return sum_of_sines(e);\n",
    "}\n",
    "EOF"
   ]
  },
  {
   "cell_type": "code",
   "execution_count": 1,
   "metadata": {},
   "outputs": [
    {
     "data": {
      "text/html": [
       "1.9395054106807"
      ],
      "text/latex": [
       "1.9395054106807"
      ],
      "text/markdown": [
       "1.9395054106807"
      ],
      "text/plain": [
       "[1] 1.939505"
      ]
     },
     "metadata": {},
     "output_type": "display_data"
    }
   ],
   "source": [
    ">ir\n",
    "Sys.setenv(PKG_CXXFLAGS=\"-I/usr/local/include/\")\n",
    "Rcpp::sourceCpp(\"xr.cpp\");\n",
    "\n",
    "arr <- seq(0., 10000.0 - 1.0, 1.0)\n",
    "rsum_of_sines(arr)"
   ]
  },
  {
   "cell_type": "markdown",
   "metadata": {},
   "source": [
    "### Julia: CxxWrap + xtensor-julia\n",
    "\n",
    "Again, a few lines of code.\n",
    "\n",
    "```c++\n",
    "#include \"jlcxx/jlcxx.hpp\"               // libcxxwrap import to define Julia bindings\n",
    "#include \"xtensor-julia/jlarray.hpp\"     // Import the jltensor container definition\n",
    "\n",
    "JULIA_CPP_MODULE_BEGIN(registry)\n",
    "    jlcxx::Module& mod = registry.create_module(\"xtjl\");\n",
    "    mod.method(\"sum_of_sines\", sum_of_sines);\n",
    "JULIA_CPP_MODULE_END\n",
    "```"
   ]
  },
  {
   "cell_type": "code",
   "execution_count": 6,
   "metadata": {},
   "outputs": [],
   "source": [
    "%%bash\n",
    "rm -f xjulia.cpp\n",
    "cp demo.cpp xjulia.cpp\n",
    "\n",
    "cat << EOF >> xjulia.cpp\n",
    "#include \"jlcxx/jlcxx.hpp\"\n",
    "#include \"xtensor-julia/jlarray.hpp\"\n",
    "\n",
    "JULIA_CPP_MODULE_BEGIN(registry)\n",
    "    jlcxx::Module& mod = registry.create_module(\"xjulia\");\n",
    "    mod.method(\"sum_of_sines\", sum_of_sines<xt::jlarray<double>>);\n",
    "JULIA_CPP_MODULE_END\n",
    "\n",
    "EOF"
   ]
  },
  {
   "cell_type": "code",
   "execution_count": 7,
   "metadata": {},
   "outputs": [],
   "source": [
    "%%bash\n",
    "\n",
    "/usr/bin/g++ -w -shared -fPIC \\\n",
    "    -I/Users/scorlay/.julia/v0.6/CxxWrap/deps/usr/include/ -I/usr/include/julia/ \\\n",
    "    -DJULIA_ENABLE_THREADING -ldl -lpthread \\\n",
    "    -L/Users/scorlay/.julia/v0.6/CxxWrap/deps/usr/ -lcxxwrap_julia \\\n",
    "    xjulia.cpp -o xjulia.so"
   ]
  },
  {
   "cell_type": "code",
   "execution_count": 1,
   "metadata": {},
   "outputs": [
    {
     "data": {
      "text/plain": [
       "1.9395054106806988"
      ]
     },
     "execution_count": 1,
     "metadata": {},
     "output_type": "execute_result"
    }
   ],
   "source": [
    ">julia-0.6\n",
    "\n",
    "using CxxWrap\n",
    "wrap_modules(joinpath(\".\", \"xjulia\"))\n",
    "\n",
    "xjulia.sum_of_sines(collect(0.0:1.0:9999))"
   ]
  }
 ],
 "metadata": {
  "kernelspec": {
   "display_name": "All the Kernels",
   "language": "",
   "name": "atk"
  },
  "language_info": {
   "mimetype": "text/plain",
   "name": "all-of-them"
  }
 },
 "nbformat": 4,
 "nbformat_minor": 2
}
