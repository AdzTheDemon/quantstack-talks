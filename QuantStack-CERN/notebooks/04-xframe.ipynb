{
 "cells": [
  {
   "cell_type": "markdown",
   "metadata": {},
   "source": [
    "# ![xframe](images/xframe.png)\n",
    "\n",
    "\n",
    "<center>N-dimensional dataframe with lazy evaluation</center>"
   ]
  },
  {
   "cell_type": "markdown",
   "metadata": {},
   "source": [
    "<center> <h1>xframe is a dataframe for C++, based on xtensor and xtl</h1> </center>"
   ]
  },
  {
   "cell_type": "code",
   "execution_count": null,
   "metadata": {},
   "outputs": [],
   "source": [
    "#include <string>\n",
    "#include <iostream>\n",
    "\n",
    "#include \"xtl/xbasic_fixed_string.hpp\"\n",
    "\n",
    "#include \"xtensor/xio.hpp\"\n",
    "#include \"xtensor/xrandom.hpp\"\n",
    "#include \"xtensor/xmath.hpp\"\n",
    "\n",
    "#include \"xframe/xio.hpp\"\n",
    "#include \"xframe/xvariable.hpp\"\n",
    "#include \"xframe/xvariable_view.hpp\"\n",
    "#include \"xframe/xvariable_masked_view.hpp\"\n",
    "#include \"xframe/xio.hpp\""
   ]
  },
  {
   "cell_type": "code",
   "execution_count": null,
   "metadata": {},
   "outputs": [],
   "source": [
    "using fstring = xtl::xfixed_string<55>;\n",
    "\n",
    "using data_type = xt::xoptional_assembly<xt::xarray<double>, xt::xarray<bool>>;\n",
    "using coordinate_type = xf::xcoordinate<fstring, data_type::size_type>;\n",
    "\n",
    "using variable_type = xf::xvariable<coordinate_type, data_type>;"
   ]
  },
  {
   "cell_type": "markdown",
   "metadata": {},
   "source": [
    "# Variable with 2D Data"
   ]
  },
  {
   "cell_type": "markdown",
   "metadata": {},
   "source": [
    "## Dry temperature variable"
   ]
  },
  {
   "cell_type": "code",
   "execution_count": null,
   "metadata": {},
   "outputs": [],
   "source": [
    "data_type dry_temperature_data = xt::eval(xt::random::rand({6, 3}, 15., 25.));\n",
    "dry_temperature_data(0, 0).has_value() = false;\n",
    "dry_temperature_data(2, 1).has_value() = false;"
   ]
  },
  {
   "cell_type": "code",
   "execution_count": null,
   "metadata": {},
   "outputs": [],
   "source": [
    "dry_temperature_data"
   ]
  },
  {
   "cell_type": "code",
   "execution_count": null,
   "metadata": {},
   "outputs": [],
   "source": [
    "auto time_axis = xf::axis({\"2018-01-01\", \"2018-01-02\", \"2018-01-03\", \"2018-01-04\", \"2018-01-05\", \"2018-01-06\"});"
   ]
  },
  {
   "cell_type": "code",
   "execution_count": null,
   "metadata": {},
   "outputs": [],
   "source": [
    "auto dry_temperature = variable_type(\n",
    "    dry_temperature_data,\n",
    "    {\n",
    "        {\"date\", time_axis},\n",
    "        {\"city\", xf::axis({\"London\", \"Paris\", \"Brussels\"})}\n",
    "    }\n",
    ");"
   ]
  },
  {
   "cell_type": "code",
   "execution_count": null,
   "metadata": {},
   "outputs": [],
   "source": [
    "dry_temperature"
   ]
  },
  {
   "cell_type": "code",
   "execution_count": null,
   "metadata": {},
   "outputs": [],
   "source": [
    "dry_temperature.select({{\"city\", \"London\"}, {\"date\", \"2018-01-04\"}})"
   ]
  },
  {
   "cell_type": "code",
   "execution_count": null,
   "metadata": {},
   "outputs": [],
   "source": [
    "dry_temperature.locate(\"2018-01-03\", \"Brussels\")"
   ]
  },
  {
   "cell_type": "code",
   "execution_count": null,
   "metadata": {},
   "outputs": [],
   "source": [
    "dry_temperature.locate(\"2018-01-03\", \"Paris\")"
   ]
  },
  {
   "cell_type": "markdown",
   "metadata": {},
   "source": [
    "## Relative humidity variable"
   ]
  },
  {
   "cell_type": "code",
   "execution_count": null,
   "metadata": {},
   "outputs": [],
   "source": [
    "data_type relative_humidity_data = xt::eval(xt::random::rand({3}, 50.0, 70.0));\n",
    "\n",
    "auto relative_humidity = variable_type(\n",
    "    relative_humidity_data,\n",
    "    {\n",
    "        {\"city\", xf::axis({\"Paris\", \"London\", \"Brussels\"})}\n",
    "    }\n",
    ");\n",
    "\n",
    "relative_humidity"
   ]
  },
  {
   "cell_type": "markdown",
   "metadata": {},
   "source": [
    "## Compute water vapour pressure using Broadcasting"
   ]
  },
  {
   "cell_type": "code",
   "execution_count": null,
   "metadata": {},
   "outputs": [],
   "source": [
    "dry_temperature"
   ]
  },
  {
   "cell_type": "code",
   "execution_count": null,
   "metadata": {},
   "outputs": [],
   "source": [
    "auto water_vapour_pressure = 0.01 * relative_humidity * 6.1 * xt::exp((17.27 * dry_temperature) / (237.7 + dry_temperature));"
   ]
  },
  {
   "cell_type": "code",
   "execution_count": null,
   "metadata": {},
   "outputs": [],
   "source": [
    "water_vapour_pressure"
   ]
  },
  {
   "cell_type": "markdown",
   "metadata": {},
   "source": [
    "## Variable with 3D data"
   ]
  },
  {
   "cell_type": "code",
   "execution_count": null,
   "metadata": {},
   "outputs": [],
   "source": [
    "data_type pressure_data = {{{ 1.,  2., 3. },\n",
    "                            { 4.,  5., 6. },\n",
    "                            { 7.,  8., 9. }},\n",
    "                           {{ 1.3, 1.5, 1.},\n",
    "                            { 2., 2.3, 2.4},\n",
    "                            { 3.1, 3.8, 3.}},\n",
    "                           {{ 8.5, 8.2, 8.6},\n",
    "                            { 7.5, 8.6, 9.7},\n",
    "                            { 4.5, 4.4, 4.3}}};"
   ]
  },
  {
   "cell_type": "code",
   "execution_count": null,
   "metadata": {},
   "outputs": [],
   "source": [
    "auto pressure = variable_type(\n",
    "    pressure_data,\n",
    "    {\n",
    "        {\"x\", xf::axis(3)},\n",
    "        {\"y\", xf::axis(3, 6, 1)},\n",
    "        {\"z\", xf::axis(3)},\n",
    "    }\n",
    ");"
   ]
  },
  {
   "cell_type": "code",
   "execution_count": null,
   "metadata": {},
   "outputs": [],
   "source": [
    "pressure"
   ]
  },
  {
   "cell_type": "code",
   "execution_count": null,
   "metadata": {},
   "outputs": [],
   "source": [
    "pressure.select({{\"x\", 1}, {\"y\", 4}, {\"z\", 1}})"
   ]
  },
  {
   "cell_type": "code",
   "execution_count": null,
   "metadata": {},
   "outputs": [],
   "source": [
    "pressure.locate(0, 5, 2)"
   ]
  },
  {
   "cell_type": "markdown",
   "metadata": {},
   "source": [
    "## Masking"
   ]
  },
  {
   "cell_type": "code",
   "execution_count": null,
   "metadata": {},
   "outputs": [],
   "source": [
    "auto masked_pressure = xf::where(\n",
    "    pressure,\n",
    "    not_equal(pressure.axis<int>(\"x\"), 2) && pressure.axis<int>(\"z\") < 2\n",
    ");"
   ]
  },
  {
   "cell_type": "code",
   "execution_count": null,
   "metadata": {},
   "outputs": [],
   "source": [
    "masked_pressure"
   ]
  }
 ],
 "metadata": {
  "kernelspec": {
   "display_name": "C++14",
   "language": "C++14",
   "name": "xeus-cling-cpp14"
  },
  "language_info": {
   "codemirror_mode": "text/x-c++src",
   "file_extension": ".cpp",
   "mimetype": "text/x-c++src",
   "name": "c++",
   "version": "-std=c++14"
  }
 },
 "nbformat": 4,
 "nbformat_minor": 2
}
