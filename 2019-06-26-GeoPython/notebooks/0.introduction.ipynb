{
 "cells": [
  {
   "cell_type": "markdown",
   "metadata": {},
   "source": [
    "# ipyleaflet - A bridge between Jupyter and Leaflet.js\n",
    "\n",
    " **Enabling interactive maps in the notebook and JupyterLab**"
   ]
  },
  {
   "cell_type": "markdown",
   "metadata": {},
   "source": [
    "\n",
    "\n",
    "### Sylvain Corlay\n",
    "\n",
    " - CEO at **QuantStack**.\n",
    " - **Jupyter Steering Committee** member.\n",
    " - Member of the board at **NumFOCUS**.\n",
    " - Organizer of the **PyData Paris** meetup.\n",
    " - Contributor to Jupyter, xtensor, bqplot, ipyleaflet, voila.\n",
    " \n",
    "### Martin Renou\n",
    "\n",
    " - Scientific Software developer at **QuantStack**.\n",
    " - Core contributor to Jupyter interactive widgets.\n",
    " - Contributor to Jupyter, xtensor, ipyleaflet, voila."
   ]
  },
  {
   "cell_type": "markdown",
   "metadata": {},
   "source": [
    "## What is\n",
    "\n",
    "<img src=src/quantstack.svg width=500px>\n",
    "\n",
    "\n",
    "- A **team** of open-source developers, core contributors to many projects of the open-source scientific stack\n",
    "- Developers in **France**, **Holland**, **Germany**.\n",
    "- Custom developments, training, extensions to Jupyter and JupyterLab, C++, ROS, Jupyter, JupyterHub, HPC.\n",
    "\n",
    "https://quantstack.net"
   ]
  },
  {
   "cell_type": "markdown",
   "metadata": {},
   "source": [
    "## What is\n",
    "\n",
    "<img src=src/NumFOCUS.png width=500px>\n",
    "\n",
    "\n",
    "- A **non-profit** organization supporting the open-source scientific computing ecosystem.\n",
    "- Home to **JuliaLang**, **NumPy**, **SciPy**, **Jupyter**, **Pandas**, **PySAL**.\n",
    "- Organizing the PyData conference series with local communities.\n",
    "\n",
    "https://numfocus.org/"
   ]
  },
  {
   "cell_type": "markdown",
   "metadata": {},
   "source": [
    "## What is?\n",
    "\n",
    "<img src=src/jupyter.png width=500px>\n",
    "\n",
    "Who does not know about Jupyter?\n",
    "\n",
    " - Jupyter Notebook\n",
    " - JupyterLab\n",
    " - JupyterHub\n",
    " - Binder\n",
    " - Jupyter Widgets\n",
    " - \"Voila\"\n",
    " \n",
    "https://jupyter.org/"
   ]
  }
 ],
 "metadata": {
  "kernelspec": {
   "display_name": "Python 3",
   "language": "python",
   "name": "python3"
  },
  "language_info": {
   "codemirror_mode": {
    "name": "ipython",
    "version": 3
   },
   "file_extension": ".py",
   "mimetype": "text/x-python",
   "name": "python",
   "nbconvert_exporter": "python",
   "pygments_lexer": "ipython3",
   "version": "3.7.3"
  }
 },
 "nbformat": 4,
 "nbformat_minor": 2
}
