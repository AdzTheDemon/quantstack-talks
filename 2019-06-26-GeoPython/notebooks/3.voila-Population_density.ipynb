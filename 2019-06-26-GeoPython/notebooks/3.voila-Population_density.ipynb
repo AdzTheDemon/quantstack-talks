{
 "cells": [
  {
   "cell_type": "code",
   "execution_count": null,
   "metadata": {},
   "outputs": [],
   "source": [
    "import json\n",
    "\n",
    "from ipywidgets import Text, HTML, HBox, IntSlider, link\n",
    "from ipyleaflet import GeoJSON, WidgetControl, FullScreenControl, Map"
   ]
  },
  {
   "cell_type": "code",
   "execution_count": null,
   "metadata": {},
   "outputs": [],
   "source": [
    "m = Map(center = (43, -100), zoom = 4)\n",
    "baselayer = m.layers[0]\n",
    "m.layout.height = '700px'\n",
    "\n",
    "# Load GeoJSON file, process features color and create the GeoJSON layer\n",
    "geo_json_data = json.load(open('src/us-states-density-colored.json'))\n",
    "geojson = GeoJSON(data=geo_json_data, hover_style={'color': 'black', 'dashArray': '5, 5', 'weight': 2})\n",
    "m.add_layer(geojson)\n",
    "\n",
    "# Create HTML element that displays the currently hovered country popuplation density\n",
    "html = HTML('''\n",
    "    <h4>US population density</h4>\n",
    "    Hover over a state\n",
    "''')\n",
    "html.layout.margin = '0px 20px 20px 20px'\n",
    "control = WidgetControl(widget=html, position='topright')\n",
    "m.add_control(control)\n",
    "\n",
    "# On hovered callback\n",
    "def update_html(properties, **kwargs):\n",
    "    html.value = '''\n",
    "        <h4>US population density</h4>\n",
    "        <h2><b>{}</b></h2>\n",
    "        {} people / mi^2\n",
    "    '''.format(properties['name'], properties['density'])\n",
    "\n",
    "geojson.on_hover(update_html)\n",
    "\n",
    "# Zoom slider\n",
    "zoom_slider = IntSlider(value=m.zoom, min=baselayer.min_zoom, max=baselayer.max_zoom, orientation='vertical')\n",
    "zoom_slider.layout.width = '30px'\n",
    "link((zoom_slider, 'value'), (m, 'zoom'))\n",
    "zoom_control = WidgetControl(widget=zoom_slider)\n",
    "m.add_control(zoom_control)\n",
    "\n",
    "# Fullscreen\n",
    "fullscreen = FullScreenControl()\n",
    "m.add_control(fullscreen)\n",
    "\n",
    "m"
   ]
  }
 ],
 "metadata": {
  "kernelspec": {
   "display_name": "Python 3",
   "language": "python",
   "name": "python3"
  },
  "language_info": {
   "codemirror_mode": {
    "name": "ipython",
    "version": 3
   },
   "file_extension": ".py",
   "mimetype": "text/x-python",
   "name": "python",
   "nbconvert_exporter": "python",
   "pygments_lexer": "ipython3",
   "version": "3.7.3"
  }
 },
 "nbformat": 4,
 "nbformat_minor": 2
}
