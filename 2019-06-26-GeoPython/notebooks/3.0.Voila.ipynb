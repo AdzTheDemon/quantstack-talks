{
 "cells": [
  {
   "cell_type": "markdown",
   "metadata": {},
   "source": [
    "## What is\n",
    "\n",
    "<img src=src/voila.svg width=300px>\n",
    "\n",
    "\n",
    "**Voilà** turns Jupyter notebooks into standalone web applications.\n",
    "\n",
    "- Voilà supports **Jupyter interactive widgets**, including the roundtrips to the kernel.\n",
    "- Voilà **does not permit arbitrary code execution** by consumers of dashboards.\n",
    "- Built upon Jupyter standard protocols and file formats, voilà works with any Jupyter kernel (C++, Python, Julia), making it a **language-agnostic** dashboarding system.\n",
    "- Voilà is extensible. It includes a flexible template system to produce **rich application layouts**.\n",
    "\n",
    "\n",
    "https://github.com/QuantStack/voila"
   ]
  },
  {
   "cell_type": "markdown",
   "metadata": {},
   "source": [
    "## Voila execution model\n",
    "\n",
    "![voila](src/execution.png)"
   ]
  },
  {
   "cell_type": "markdown",
   "metadata": {},
   "source": [
    "## Rich application layout with Voila template\n",
    "\n",
    "![](src/vuetify.gif)"
   ]
  },
  {
   "cell_type": "markdown",
   "metadata": {},
   "source": [
    "## What is coming?\n",
    "\n",
    "- JupyteHub integration.\n",
    "- JupyterLab WYSIWYG layout editor.\n",
    "- Online Voilà gallery (https://voila-gallery.org/services/gallery/) *à la* shinyapp.\n",
    "- Winter is coming.\n",
    "- ...\n",
    "\n",
    "\n",
    "\n",
    "![jon](src/jon.jpg)"
   ]
  }
 ],
 "metadata": {
  "kernelspec": {
   "display_name": "Python 3",
   "language": "python",
   "name": "python3"
  },
  "language_info": {
   "codemirror_mode": {
    "name": "ipython",
    "version": 3
   },
   "file_extension": ".py",
   "mimetype": "text/x-python",
   "name": "python",
   "nbconvert_exporter": "python",
   "pygments_lexer": "ipython3",
   "version": "3.7.3"
  }
 },
 "nbformat": 4,
 "nbformat_minor": 2
}
