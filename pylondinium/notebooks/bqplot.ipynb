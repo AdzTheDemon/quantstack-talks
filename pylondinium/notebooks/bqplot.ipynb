{
 "cells": [
  {
   "cell_type": "markdown",
   "metadata": {},
   "source": [
    "# bqplot https://github.com/bloomberg/bqplot\n",
    "\n",
    "## A Jupyter - d3.js bridge\n",
    "\n",
    "bqplot is a jupyter interactive widget library bringing d3.js visualization to the Jupyter notebook.\n",
    "\n",
    "- Apache Licensed\n",
    "\n",
    "bqplot implements the abstractions of Wilkinson’s “The Grammar of Graphics” as interactive Jupyter widgets.\n",
    "\n",
    "bqplot provides both\n",
    "-\thigh-level plotting procedures with relevant defaults for common chart types,\n",
    "-\tlower-level descriptions of data visualizations meant for complex interactive visualization dashboards and applications involving mouse interactions and user-provided Python callbacks.\n",
    "\n",
    "**Installation:**\n",
    "\n",
    "```bash\n",
    "conda install -c conda-forge bqplot\n",
    "```"
   ]
  },
  {
   "cell_type": "code",
   "execution_count": 5,
   "metadata": {},
   "outputs": [],
   "source": [
    "from __future__ import print_function\n",
    "from IPython.display import display\n",
    "from ipywidgets import *\n",
    "from traitlets import *\n",
    "\n",
    "import numpy as np\n",
    "import pandas as pd\n",
    "import bqplot as bq\n",
    "import datetime as dt"
   ]
  },
  {
   "cell_type": "code",
   "execution_count": 6,
   "metadata": {},
   "outputs": [],
   "source": [
    "np.random.seed(0)\n",
    "size = 100\n",
    "y_data = np.cumsum(np.random.randn(size) * 100.0)\n",
    "y_data_2 = np.cumsum(np.random.randn(size))\n",
    "y_data_3 = np.cumsum(np.random.randn(size) * 100.)\n",
    "\n",
    "x = np.linspace(0.0, 10.0, size)\n",
    "\n",
    "price_data = pd.DataFrame(np.cumsum(np.random.randn(150, 2).dot([[0.5, 0.8], [0.8, 1.0]]), axis=0) + 100,\n",
    "                          columns=['Security 1', 'Security 2'],\n",
    "                          index=pd.date_range(start='01-01-2007', periods=150))\n",
    "\n",
    "symbol = 'Security 1'\n",
    "dates_all = price_data.index.values\n",
    "final_prices = price_data[symbol].values.flatten()"
   ]
  },
  {
   "cell_type": "markdown",
   "metadata": {},
   "source": [
    "# A simple plot with the pyplot API"
   ]
  },
  {
   "cell_type": "code",
   "execution_count": 7,
   "metadata": {},
   "outputs": [],
   "source": [
    "from bqplot import pyplot as plt"
   ]
  },
  {
   "cell_type": "code",
   "execution_count": 8,
   "metadata": {},
   "outputs": [
    {
     "data": {
      "application/vnd.jupyter.widget-view+json": {
       "model_id": "5825827584ad42108680b0cf0e375f99",
       "version_major": 2,
       "version_minor": 0
      },
      "text/plain": [
       "VBox(children=(Figure(axes=[Axis(scale=LinearScale(), side='bottom'), Axis(grid_lines='dashed', orientation='v…"
      ]
     },
     "metadata": {},
     "output_type": "display_data"
    }
   ],
   "source": [
    "plt.figure(1)\n",
    "n = 100\n",
    "plt.plot(np.linspace(0.0, 10.0, n), np.cumsum(np.random.randn(n)), \n",
    "         axes_options={'y': {'grid_lines': 'dashed'}})\n",
    "plt.show()"
   ]
  },
  {
   "cell_type": "markdown",
   "metadata": {},
   "source": [
    "### Scatter Plot"
   ]
  },
  {
   "cell_type": "code",
   "execution_count": 9,
   "metadata": {},
   "outputs": [
    {
     "data": {
      "application/vnd.jupyter.widget-view+json": {
       "model_id": "5404dd36630941f89014941a0b5d0a7a",
       "version_major": 2,
       "version_minor": 0
      },
      "text/plain": [
       "VBox(children=(Figure(axes=[ColorAxis(scale=ColorScale()), Axis(scale=LinearScale()), Axis(orientation='vertic…"
      ]
     },
     "metadata": {},
     "output_type": "display_data"
    }
   ],
   "source": [
    "plt.figure(title='Scatter Plot with colors')\n",
    "plt.scatter(y_data_2, y_data_3, color=y_data)\n",
    "plt.show()"
   ]
  },
  {
   "cell_type": "markdown",
   "metadata": {},
   "source": [
    "### Histogram"
   ]
  },
  {
   "cell_type": "code",
   "execution_count": 6,
   "metadata": {},
   "outputs": [
    {
     "data": {
      "application/vnd.jupyter.widget-view+json": {
       "model_id": "44ed4b293fcb41b58d4832105a2e2981",
       "version_major": 2,
       "version_minor": 0
      },
      "text/html": [
       "<p>Failed to display Jupyter Widget of type <code>VBox</code>.</p>\n",
       "<p>\n",
       "  If you're reading this message in the Jupyter Notebook or JupyterLab Notebook, it may mean\n",
       "  that the widgets JavaScript is still loading. If this message persists, it\n",
       "  likely means that the widgets JavaScript library is either not installed or\n",
       "  not enabled. See the <a href=\"https://ipywidgets.readthedocs.io/en/stable/user_install.html\">Jupyter\n",
       "  Widgets Documentation</a> for setup instructions.\n",
       "</p>\n",
       "<p>\n",
       "  If you're reading this message in another frontend (for example, a static\n",
       "  rendering on GitHub or <a href=\"https://nbviewer.jupyter.org/\">NBViewer</a>),\n",
       "  it may mean that your frontend doesn't currently support widgets.\n",
       "</p>\n"
      ],
      "text/plain": [
       "VBox(children=(Figure(axes=[Axis(orientation='vertical', scale=LinearScale()), Axis(scale=LinearScale())], fig_margin={'top': 60, 'bottom': 60, 'left': 60, 'right': 60}, layout=Layout(min_width='125px'), marks=[Hist(colors=['OrangeRed'], interactions={'hover': 'tooltip'}, sample=array([  176.4052346 ,   216.42095543,   314.29475384,   538.38407376,\n",
       "         725.13987278,   627.41208479,   722.42092654,   707.28520571,\n",
       "         696.96332053,   738.02317073,   752.42752784,   897.85487854,\n",
       "         973.95865106,   986.12615271,  1030.51247598,  1063.87990872,\n",
       "        1213.28781603,  1192.77198966,  1224.07875982,  1138.66918589,\n",
       "         883.37020431,   948.73206385,  1035.17568374,   960.9591817 ,\n",
       "        1187.9346441 ,  1042.49807664,  1047.07392837,  1028.35554336,\n",
       "        1181.6334648 ,  1328.56934179,  1344.06408436,  1381.88033632,\n",
       "        1293.10176156,  1095.02211473,  1060.2308998 ,  1075.86579671,\n",
       "        1198.89486478,  1319.13284966,  1280.40016792,  1250.16989286,\n",
       "        1145.31459636,  1003.31280264,   832.68578358,  1027.7633231 ,\n",
       "         976.79810493,   932.99067476,   807.71113876,   885.46017434,\n",
       "         724.07038959,   702.79636157,   613.24970545,   651.93995523,\n",
       "         600.85944148,   482.79622306,   479.97800023,   522.81118728,\n",
       "         529.46290952,   559.71009929,   496.27788993,   460.00377333,\n",
       "         392.75772855,   356.8024124 ,   275.48778419,   102.85952396,\n",
       "         120.60213818,    80.42404456,   -82.59579013,   -36.31756458,\n",
       "        -127.04740102,  -121.85286144,   -48.94380522,   -36.04551415,\n",
       "          77.89455431,   -45.58802773,    -5.35386361,   -73.8348727 ,\n",
       "        -160.91458762,  -218.7995541 ,  -249.95480731,  -244.33827309,\n",
       "        -360.85325717,  -270.77060847,  -224.2043645 ,  -377.82873313,\n",
       "        -229.00351375,   -39.41459614,    78.46336097,    60.47087739,\n",
       "         -46.60438476,    58.84078793,    18.52309324,   140.76760027,\n",
       "         161.59509808,   259.25900173,   294.89564145,   365.55295827,\n",
       "         366.60296034,   545.19000973,   557.881219  ,   598.08015534]), scales={'count': LinearScale(), 'sample': LinearScale()}, scales_metadata={'sample': {'orientation': 'horizontal', 'dimension': 'x'}, 'count': {'orientation': 'vertical', 'dimension': 'y'}}, tooltip_style={'opacity': 0.9})], scale_x=LinearScale(allow_padding=False, max=1.0, min=0.0), scale_y=LinearScale(allow_padding=False, max=1.0, min=0.0)), Toolbar(figure=Figure(axes=[Axis(orientation='vertical', scale=LinearScale()), Axis(scale=LinearScale())], fig_margin={'top': 60, 'bottom': 60, 'left': 60, 'right': 60}, layout=Layout(min_width='125px'), marks=[Hist(colors=['OrangeRed'], interactions={'hover': 'tooltip'}, sample=array([  176.4052346 ,   216.42095543,   314.29475384,   538.38407376,\n",
       "         725.13987278,   627.41208479,   722.42092654,   707.28520571,\n",
       "         696.96332053,   738.02317073,   752.42752784,   897.85487854,\n",
       "         973.95865106,   986.12615271,  1030.51247598,  1063.87990872,\n",
       "        1213.28781603,  1192.77198966,  1224.07875982,  1138.66918589,\n",
       "         883.37020431,   948.73206385,  1035.17568374,   960.9591817 ,\n",
       "        1187.9346441 ,  1042.49807664,  1047.07392837,  1028.35554336,\n",
       "        1181.6334648 ,  1328.56934179,  1344.06408436,  1381.88033632,\n",
       "        1293.10176156,  1095.02211473,  1060.2308998 ,  1075.86579671,\n",
       "        1198.89486478,  1319.13284966,  1280.40016792,  1250.16989286,\n",
       "        1145.31459636,  1003.31280264,   832.68578358,  1027.7633231 ,\n",
       "         976.79810493,   932.99067476,   807.71113876,   885.46017434,\n",
       "         724.07038959,   702.79636157,   613.24970545,   651.93995523,\n",
       "         600.85944148,   482.79622306,   479.97800023,   522.81118728,\n",
       "         529.46290952,   559.71009929,   496.27788993,   460.00377333,\n",
       "         392.75772855,   356.8024124 ,   275.48778419,   102.85952396,\n",
       "         120.60213818,    80.42404456,   -82.59579013,   -36.31756458,\n",
       "        -127.04740102,  -121.85286144,   -48.94380522,   -36.04551415,\n",
       "          77.89455431,   -45.58802773,    -5.35386361,   -73.8348727 ,\n",
       "        -160.91458762,  -218.7995541 ,  -249.95480731,  -244.33827309,\n",
       "        -360.85325717,  -270.77060847,  -224.2043645 ,  -377.82873313,\n",
       "        -229.00351375,   -39.41459614,    78.46336097,    60.47087739,\n",
       "         -46.60438476,    58.84078793,    18.52309324,   140.76760027,\n",
       "         161.59509808,   259.25900173,   294.89564145,   365.55295827,\n",
       "         366.60296034,   545.19000973,   557.881219  ,   598.08015534]), scales={'count': LinearScale(), 'sample': LinearScale()}, scales_metadata={'sample': {'orientation': 'horizontal', 'dimension': 'x'}, 'count': {'orientation': 'vertical', 'dimension': 'y'}}, tooltip_style={'opacity': 0.9})], scale_x=LinearScale(allow_padding=False, max=1.0, min=0.0), scale_y=LinearScale(allow_padding=False, max=1.0, min=0.0)))))"
      ]
     },
     "metadata": {},
     "output_type": "display_data"
    }
   ],
   "source": [
    "plt.figure()\n",
    "plt.hist(y_data, colors=['OrangeRed'])\n",
    "plt.show()"
   ]
  },
  {
   "cell_type": "markdown",
   "metadata": {},
   "source": [
    "# Every component of the figure is an independent widget"
   ]
  },
  {
   "cell_type": "code",
   "execution_count": 7,
   "metadata": {},
   "outputs": [
    {
     "data": {
      "application/vnd.jupyter.widget-view+json": {
       "model_id": "5efa3da09855474e843b1966430ac76b",
       "version_major": 2,
       "version_minor": 0
      },
      "text/html": [
       "<p>Failed to display Jupyter Widget of type <code>Figure</code>.</p>\n",
       "<p>\n",
       "  If you're reading this message in the Jupyter Notebook or JupyterLab Notebook, it may mean\n",
       "  that the widgets JavaScript is still loading. If this message persists, it\n",
       "  likely means that the widgets JavaScript library is either not installed or\n",
       "  not enabled. See the <a href=\"https://ipywidgets.readthedocs.io/en/stable/user_install.html\">Jupyter\n",
       "  Widgets Documentation</a> for setup instructions.\n",
       "</p>\n",
       "<p>\n",
       "  If you're reading this message in another frontend (for example, a static\n",
       "  rendering on GitHub or <a href=\"https://nbviewer.jupyter.org/\">NBViewer</a>),\n",
       "  it may mean that your frontend doesn't currently support widgets.\n",
       "</p>\n"
      ],
      "text/plain": [
       "Figure(animation_duration=1000, axes=[Axis(label='x', scale=LinearScale()), Axis(label='y', orientation='vertical', scale=LinearScale(), tick_format='0.2f')], fig_margin={'top': 60, 'bottom': 60, 'left': 60, 'right': 60}, layout=Layout(min_width='125px'), marks=[Lines(colors=['red', 'green'], interactions={'hover': 'tooltip'}, scales={'x': LinearScale(), 'y': LinearScale()}, scales_metadata={'x': {'orientation': 'horizontal', 'dimension': 'x'}, 'y': {'orientation': 'vertical', 'dimension': 'y'}, 'color': {'dimension': 'color'}}, tooltip_style={'opacity': 0.9}, x=array([ 0,  1,  2,  3,  4,  5,  6,  7,  8,  9, 10, 11, 12, 13, 14, 15, 16,\n",
       "       17, 18, 19, 20, 21, 22, 23, 24, 25, 26, 27, 28, 29, 30, 31, 32, 33,\n",
       "       34, 35, 36, 37, 38, 39, 40, 41, 42, 43, 44, 45, 46, 47, 48, 49, 50,\n",
       "       51, 52, 53, 54, 55, 56, 57, 58, 59, 60, 61, 62, 63, 64, 65, 66, 67,\n",
       "       68, 69, 70, 71, 72, 73, 74, 75, 76, 77, 78, 79, 80, 81, 82, 83, 84,\n",
       "       85, 86, 87, 88, 89, 90, 91, 92, 93, 94, 95, 96, 97, 98, 99]), y=array([[ -1.4449402 ,  -2.65548319,  -3.44415245,  -2.34951407,\n",
       "         -2.11469255,   0.01746086,   0.95390659,   0.91881141,\n",
       "          2.18388925,   2.39538626,   1.69046491,   2.37043976,\n",
       "          1.6741131 ,   1.383716  ,   2.7114987 ,   2.61021721,\n",
       "          1.80707582,   1.34273813,   2.36452872,   1.81198804,\n",
       "          1.4251172 ,   0.91482446,   1.09874995,   0.71326019,\n",
       "         -0.88857586,  -1.7757568 ,  -2.70854584,  -1.46522646,\n",
       "         -0.65255241,  -0.06529304,  -0.57065135,  -1.38644289,\n",
       "         -1.8939605 ,  -2.9458406 ,  -0.44864021,  -2.69396186,\n",
       "         -2.12995332,  -3.41450562,  -3.51884911,  -4.50685105,\n",
       "         -5.68448002,  -6.82467632,  -5.06969016,  -5.20267858,\n",
       "         -5.96838078,  -5.41259381,  -5.4022445 ,  -4.68221074,\n",
       "         -6.5064674 ,  -6.20286349,  -5.43016866,  -7.09176695,\n",
       "         -6.64357166,  -4.94739009,  -4.96224779,  -4.14084186,\n",
       "         -3.47027141,  -4.1777771 ,  -4.13801037,  -5.70500508,\n",
       "         -6.15630812,  -5.89062014,  -5.16751965,  -5.14290752,\n",
       "         -4.42292379,  -5.52583   ,  -5.62752728,  -5.6082479 ,\n",
       "         -3.75865665,  -3.9728233 ,  -4.47183994,  -4.45048872,\n",
       "         -5.36960216,  -5.17684831,  -5.54190353,  -7.33323108,\n",
       "         -7.39181763,  -7.70936072,  -9.34178403,  -9.40891818,\n",
       "         -7.91956222,  -7.39825847,  -6.78633128,  -8.127828  ,\n",
       "         -7.65092963,  -7.50248005,  -6.97343481,  -6.55080619,\n",
       "         -7.91058692,  -7.95198773,  -8.70985859,  -8.75994268,\n",
       "         -9.65734361,  -8.34487324,  -9.20384563, -10.10278779,\n",
       "        -10.02820138, -11.10530045, -11.52996375, -12.35992835],\n",
       "       [  1.41117206,   2.19697589,   2.13950637,   1.74828932,\n",
       "          2.68920693,   3.09441101,   3.59246342,   3.56627118,\n",
       "          1.87804115,   1.76557517,   1.23308525,   1.87814053,\n",
       "          2.88998296,   2.23203191,   2.70041715,   4.43629615,\n",
       "          3.76858343,   5.45050517,   4.59791932,   4.62087907,\n",
       "          4.60973346,   4.62123236,   3.78355432,   3.19237122,\n",
       "          2.52465093,   2.85161353,   3.18164864,   5.40759297,\n",
       "          6.77858198,   6.26873874,   6.59360835,   7.59072633,\n",
       "          7.62132816,   7.55168658,   7.60326152,   8.47053815,\n",
       "          7.62221763,   7.29654816,   7.7669813 ,   8.07842838,\n",
       "          8.31801113,   7.94820997,   8.92074576,  11.054614  ,\n",
       "         11.4610295 ,  11.2678528 ,  12.02359309,  11.48446045,\n",
       "         10.7347701 ,  10.76757885,   8.18478222,   7.03083186,\n",
       "          6.68287   ,   5.32948114,   4.29683804,   3.8600897 ,\n",
       "          2.21712441,   1.81105261,   1.27578245,   1.30118766,\n",
       "          2.45537169,   2.6278761 ,   2.64893812,   2.74839258,\n",
       "          2.97578536,   1.95904671,   1.84427138,   2.15302263,\n",
       "          0.78226264,   1.64791557,   2.7292916 ,   2.09791561,\n",
       "          1.85657782,   0.97838748,   1.67776796,   0.61654567,\n",
       "          0.39406866,  -0.46485124,  -0.41389697,  -2.20812624,\n",
       "         -0.8816646 ,  -1.84627102,  -1.78637634,  -1.99889938,\n",
       "         -2.76101389,  -3.64879403,  -2.71239549,  -3.23803608,\n",
       "         -2.9668659 ,  -3.76836278,  -4.41554421,  -3.94329706,\n",
       "         -3.01288857,  -3.18820497,  -4.61012484,  -2.61216876,\n",
       "         -3.46871807,  -5.01030547,  -2.41588088,  -2.81991318]]))], scale_x=LinearScale(allow_padding=False, max=1.0, min=0.0), scale_y=LinearScale(allow_padding=False, max=1.0, min=0.0))"
      ]
     },
     "metadata": {},
     "output_type": "display_data"
    }
   ],
   "source": [
    "xs = bq.LinearScale()\n",
    "ys = bq.LinearScale()\n",
    "x = np.arange(100)\n",
    "y = np.cumsum(np.random.randn(2, 100), axis=1) #two random walks\n",
    "\n",
    "line = bq.Lines(x=x, y=y, scales={'x': xs, 'y': ys}, colors=['red', 'green'])\n",
    "xax = bq.Axis(scale=xs, label='x', grid_lines='solid')\n",
    "yax = bq.Axis(scale=ys, orientation='vertical', tick_format='0.2f', label='y', grid_lines='solid')\n",
    "\n",
    "fig = bq.Figure(marks=[line], axes=[xax, yax], animation_duration=1000)\n",
    "display(fig)"
   ]
  },
  {
   "cell_type": "code",
   "execution_count": 8,
   "metadata": {},
   "outputs": [],
   "source": [
    "# update data of the line mark\n",
    "line.y = np.cumsum(np.random.randn(2, 100), axis=1)"
   ]
  },
  {
   "cell_type": "code",
   "execution_count": 9,
   "metadata": {},
   "outputs": [
    {
     "data": {
      "application/vnd.jupyter.widget-view+json": {
       "model_id": "e8d084f7f58a48bebc66507563ebe250",
       "version_major": 2,
       "version_minor": 0
      },
      "text/html": [
       "<p>Failed to display Jupyter Widget of type <code>Figure</code>.</p>\n",
       "<p>\n",
       "  If you're reading this message in the Jupyter Notebook or JupyterLab Notebook, it may mean\n",
       "  that the widgets JavaScript is still loading. If this message persists, it\n",
       "  likely means that the widgets JavaScript library is either not installed or\n",
       "  not enabled. See the <a href=\"https://ipywidgets.readthedocs.io/en/stable/user_install.html\">Jupyter\n",
       "  Widgets Documentation</a> for setup instructions.\n",
       "</p>\n",
       "<p>\n",
       "  If you're reading this message in another frontend (for example, a static\n",
       "  rendering on GitHub or <a href=\"https://nbviewer.jupyter.org/\">NBViewer</a>),\n",
       "  it may mean that your frontend doesn't currently support widgets.\n",
       "</p>\n"
      ],
      "text/plain": [
       "Figure(animation_duration=1000, axes=[Axis(label='x', scale=LinearScale()), Axis(label='y', orientation='vertical', scale=LinearScale(), tick_format='0.2f')], fig_margin={'top': 60, 'bottom': 60, 'left': 60, 'right': 60}, layout=Layout(min_width='125px'), marks=[Scatter(colors=['steelblue'], interactions={'hover': 'tooltip'}, scales={'x': LinearScale(), 'y': LinearScale()}, scales_metadata={'x': {'orientation': 'horizontal', 'dimension': 'x'}, 'y': {'orientation': 'vertical', 'dimension': 'y'}, 'color': {'dimension': 'color'}, 'size': {'dimension': 'size'}, 'opacity': {'dimension': 'opacity'}, 'rotation': {'dimension': 'rotation'}, 'skew': {'dimension': 'skew'}}, tooltip_style={'opacity': 0.9}, x=array([ 0.48968491,  0.13168728,  0.39701367,  0.70440154,  0.28488552,\n",
       "        0.10398808,  0.90789846,  0.70905081,  0.61527643,  0.79249891,\n",
       "        0.83564604,  0.483459  ,  0.88118825,  0.91641901,  0.2715511 ,\n",
       "        0.60754536,  0.52658403,  0.53794578,  0.93766309,  0.3051887 ]), y=array([ 0.98343398,  0.90213121,  0.45872289,  0.81745326,  0.76904699,\n",
       "        0.67789497,  0.31983389,  0.19645099,  0.6715277 ,  0.8429733 ,\n",
       "        0.01625279,  0.64280338,  0.44287302,  0.89808776,  0.32147293,\n",
       "        0.47418481,  0.5147671 ,  0.14043952,  0.7128923 ,  0.83047635]))], scale_x=LinearScale(allow_padding=False, max=1.0, min=0.0), scale_y=LinearScale(allow_padding=False, max=1.0, min=0.0))"
      ]
     },
     "metadata": {},
     "output_type": "display_data"
    }
   ],
   "source": [
    "xs = bq.LinearScale()\n",
    "ys = bq.LinearScale()\n",
    "x, y = np.random.rand(2, 20)\n",
    "scatt = bq.Scatter(x=x, y=y, scales={'x': xs, 'y': ys}, default_colors=['blue'])\n",
    "xax = bq.Axis(scale=xs, label='x', grid_lines='solid')\n",
    "yax = bq.Axis(scale=ys, orientation='vertical', tick_format='0.2f', label='y', grid_lines='solid')\n",
    "\n",
    "fig = bq.Figure(marks=[scatt], axes=[xax, yax], animation_duration=1000)\n",
    "display(fig)"
   ]
  },
  {
   "cell_type": "code",
   "execution_count": 10,
   "metadata": {},
   "outputs": [],
   "source": [
    "#data updates\n",
    "scatt.x = np.random.rand(20) * 10\n",
    "scatt.y = np.random.rand(20)"
   ]
  },
  {
   "cell_type": "markdown",
   "metadata": {},
   "source": [
    "## The same holds for the attributes of scales, axes"
   ]
  },
  {
   "cell_type": "code",
   "execution_count": 11,
   "metadata": {},
   "outputs": [],
   "source": [
    "xs.min = 4"
   ]
  },
  {
   "cell_type": "code",
   "execution_count": 12,
   "metadata": {},
   "outputs": [],
   "source": [
    "xs.min = None"
   ]
  },
  {
   "cell_type": "code",
   "execution_count": 13,
   "metadata": {},
   "outputs": [],
   "source": [
    "xax.label = 'Some label for the x axis'"
   ]
  },
  {
   "cell_type": "markdown",
   "metadata": {},
   "source": [
    "## Use bqplot figures as input widgets"
   ]
  },
  {
   "cell_type": "code",
   "execution_count": 14,
   "metadata": {},
   "outputs": [],
   "source": [
    "xs = bq.LinearScale()\n",
    "ys = bq.LinearScale()\n",
    "x = np.arange(100)\n",
    "y = np.cumsum(np.random.randn(2, 100), axis=1) #two random walks\n",
    "\n",
    "line = bq.Lines(x=x, y=y, scales={'x': xs, 'y': ys}, colors=['red', 'green'])\n",
    "xax = bq.Axis(scale=xs, label='x', grid_lines='solid')\n",
    "yax = bq.Axis(scale=ys, orientation='vertical', tick_format='0.2f', label='y', grid_lines='solid')"
   ]
  },
  {
   "cell_type": "markdown",
   "metadata": {},
   "source": [
    "## Selections"
   ]
  },
  {
   "cell_type": "code",
   "execution_count": 15,
   "metadata": {},
   "outputs": [
    {
     "data": {
      "application/vnd.jupyter.widget-view+json": {
       "model_id": "11816ad4473d432db421b999df0c4fa6",
       "version_major": 2,
       "version_minor": 0
      },
      "text/html": [
       "<p>Failed to display Jupyter Widget of type <code>Label</code>.</p>\n",
       "<p>\n",
       "  If you're reading this message in the Jupyter Notebook or JupyterLab Notebook, it may mean\n",
       "  that the widgets JavaScript is still loading. If this message persists, it\n",
       "  likely means that the widgets JavaScript library is either not installed or\n",
       "  not enabled. See the <a href=\"https://ipywidgets.readthedocs.io/en/stable/user_install.html\">Jupyter\n",
       "  Widgets Documentation</a> for setup instructions.\n",
       "</p>\n",
       "<p>\n",
       "  If you're reading this message in another frontend (for example, a static\n",
       "  rendering on GitHub or <a href=\"https://nbviewer.jupyter.org/\">NBViewer</a>),\n",
       "  it may mean that your frontend doesn't currently support widgets.\n",
       "</p>\n"
      ],
      "text/plain": [
       "Label(value='None')"
      ]
     },
     "metadata": {},
     "output_type": "display_data"
    }
   ],
   "source": [
    "def interval_change_callback(change):\n",
    "    db.value = str(change['new'])\n",
    "\n",
    "intsel = bq.interacts.FastIntervalSelector(scale=xs, marks=[line])\n",
    "intsel.observe(interval_change_callback, names=['selected'] )\n",
    "\n",
    "db = widgets.Label()\n",
    "db.value = str(intsel.selected)\n",
    "display(db)"
   ]
  },
  {
   "cell_type": "code",
   "execution_count": 16,
   "metadata": {},
   "outputs": [
    {
     "data": {
      "application/vnd.jupyter.widget-view+json": {
       "model_id": "6b492987cef848cc84c4811adc757a09",
       "version_major": 2,
       "version_minor": 0
      },
      "text/html": [
       "<p>Failed to display Jupyter Widget of type <code>Figure</code>.</p>\n",
       "<p>\n",
       "  If you're reading this message in the Jupyter Notebook or JupyterLab Notebook, it may mean\n",
       "  that the widgets JavaScript is still loading. If this message persists, it\n",
       "  likely means that the widgets JavaScript library is either not installed or\n",
       "  not enabled. See the <a href=\"https://ipywidgets.readthedocs.io/en/stable/user_install.html\">Jupyter\n",
       "  Widgets Documentation</a> for setup instructions.\n",
       "</p>\n",
       "<p>\n",
       "  If you're reading this message in another frontend (for example, a static\n",
       "  rendering on GitHub or <a href=\"https://nbviewer.jupyter.org/\">NBViewer</a>),\n",
       "  it may mean that your frontend doesn't currently support widgets.\n",
       "</p>\n"
      ],
      "text/plain": [
       "Figure(animation_duration=1000, axes=[Axis(label='x', scale=LinearScale(), side='bottom'), Axis(label='y', orientation='vertical', scale=LinearScale(), side='left', tick_format='0.2f')], fig_margin={'top': 60, 'bottom': 60, 'left': 60, 'right': 60}, interaction=FastIntervalSelector(marks=[Lines(colors=['red', 'green'], interactions={'hover': 'tooltip'}, scales={'x': LinearScale(), 'y': LinearScale()}, scales_metadata={'x': {'orientation': 'horizontal', 'dimension': 'x'}, 'y': {'orientation': 'vertical', 'dimension': 'y'}, 'color': {'dimension': 'color'}}, tooltip_style={'opacity': 0.9}, x=array([ 0,  1,  2,  3,  4,  5,  6,  7,  8,  9, 10, 11, 12, 13, 14, 15, 16,\n",
       "       17, 18, 19, 20, 21, 22, 23, 24, 25, 26, 27, 28, 29, 30, 31, 32, 33,\n",
       "       34, 35, 36, 37, 38, 39, 40, 41, 42, 43, 44, 45, 46, 47, 48, 49, 50,\n",
       "       51, 52, 53, 54, 55, 56, 57, 58, 59, 60, 61, 62, 63, 64, 65, 66, 67,\n",
       "       68, 69, 70, 71, 72, 73, 74, 75, 76, 77, 78, 79, 80, 81, 82, 83, 84,\n",
       "       85, 86, 87, 88, 89, 90, 91, 92, 93, 94, 95, 96, 97, 98, 99]), y=array([[  0.83265074,   1.15971695,   2.79131438,   3.16907355,\n",
       "          3.40894065,   3.56789933,   3.76076328,   2.603746  ,\n",
       "          3.37441906,   3.24397932,   5.06589442,   4.99024395,\n",
       "          5.41116223,   5.65776442,   5.03220738,   6.02434421,\n",
       "          7.92940785,   7.91463063,   7.61415185,   7.25912312,\n",
       "          5.36676122,   5.18894808,   5.4399462 ,   6.49470412,\n",
       "          7.45475186,   7.03825278,   6.76142978,   7.88533509,\n",
       "          7.71187119,   7.20184165,   8.5943601 ,   9.63194577,\n",
       "          9.65073756,   9.05696011,   7.04507979,   7.6347834 ,\n",
       "          6.73841368,   4.77568167,   6.3605022 ,   7.00846999,\n",
       "          5.86946179,   4.65506041,   5.52602219,   4.64805158,\n",
       "          5.94420144,   6.56066076,   7.09725728,   7.50195273,\n",
       "          7.6934036 ,   8.5739148 ,   8.11983444,   8.20578642,\n",
       "          8.957733  ,   9.52072272,   8.32573592,   7.82532625,\n",
       "          8.07812975,   7.67011505,   9.44477361,   9.05162041,\n",
       "          8.88940196,   9.65883214,   9.98936489,   9.84409043,\n",
       "          9.0875969 ,   9.38911096,  10.4282074 ,  10.90730262,\n",
       "         10.1291191 ,  11.86589406,  10.41931617,   8.83663052,\n",
       "          9.79718775,  10.02302823,   9.47352968,   8.37495895,\n",
       "         10.69575879,  10.81284967,  11.34705084,  11.66493593,\n",
       "         12.09974389,  12.63983835,  13.37226236,  12.99703996,\n",
       "         12.70539797,  10.96437517,  10.18407076,  10.45518356,\n",
       "         11.50020693,  12.09924646,  11.75855411,  10.4953812 ,\n",
       "          7.71802206,   8.86975603,   8.28052704,   7.83206204,\n",
       "          7.96363601,   6.55807596,   6.20829378,   8.23176573],\n",
       "       [  0.50538694,   0.8646361 ,  -0.71785838,   1.52574351,\n",
       "          0.1029486 ,   2.02527336,  -0.08978266,   1.31558278,\n",
       "          2.93363705,   2.10922793,   2.5318083 ,   3.07928887,\n",
       "          2.26549439,   0.81637678,  -0.50134056,   0.03966766,\n",
       "         -0.04544795,  -0.60974898,   0.35701903,   0.86508694,\n",
       "          0.10962422,  -1.0915773 ,  -0.56831557,  -1.10589893,\n",
       "         -1.00669407,   0.5696049 ,   1.07193314,   0.20966614,\n",
       "          0.37032733,  -0.58231762,   1.02620453,   0.46462579,\n",
       "          0.67189653,   0.97962911,   1.13887958,  -0.81966938,\n",
       "         -2.26609044,  -2.71844072,  -2.39900889,  -2.5367881 ,\n",
       "         -3.49393557,  -4.84235989,  -5.24391744,  -5.71239348,\n",
       "         -5.19955702,  -5.52587549,  -4.92316783,  -5.5178176 ,\n",
       "         -5.77377527,  -6.12182165,  -6.90418862,  -6.27906996,\n",
       "         -7.09266596,  -7.61430747,  -7.68742711,  -8.98480677,\n",
       "         -9.30974173, -10.02104809, -10.40920228, -10.46913028,\n",
       "        -11.2690439 , -11.48911968, -10.18045093, -10.20624949,\n",
       "         -9.06098732,  -8.71449288,  -7.94033227,  -8.71479123,\n",
       "         -8.60988407,  -8.47597115,  -9.08859689,  -9.91142521,\n",
       "        -11.4016906 ,  -9.90555096, -10.87795385,  -9.53173278,\n",
       "         -9.99922595, -10.86171925, -10.23920011, -10.87039205,\n",
       "        -10.30193313, -10.6347449 , -10.1543204 , -11.12250647,\n",
       "        -10.29115541,  -9.80318272, -10.72283341,  -8.07989769,\n",
       "         -7.53977467,  -5.2493076 ,  -3.64903978,  -3.83787456,\n",
       "         -4.25014631,  -4.6536055 ,  -6.48363405,  -7.17946917,\n",
       "         -6.93270314,  -5.40674558,  -6.17951746,  -5.29746086]]))], scale=LinearScale()), layout=Layout(min_width='125px'), marks=[Lines(colors=['red', 'green'], interactions={'hover': 'tooltip'}, scales={'x': LinearScale(), 'y': LinearScale()}, scales_metadata={'x': {'orientation': 'horizontal', 'dimension': 'x'}, 'y': {'orientation': 'vertical', 'dimension': 'y'}, 'color': {'dimension': 'color'}}, tooltip_style={'opacity': 0.9}, x=array([ 0,  1,  2,  3,  4,  5,  6,  7,  8,  9, 10, 11, 12, 13, 14, 15, 16,\n",
       "       17, 18, 19, 20, 21, 22, 23, 24, 25, 26, 27, 28, 29, 30, 31, 32, 33,\n",
       "       34, 35, 36, 37, 38, 39, 40, 41, 42, 43, 44, 45, 46, 47, 48, 49, 50,\n",
       "       51, 52, 53, 54, 55, 56, 57, 58, 59, 60, 61, 62, 63, 64, 65, 66, 67,\n",
       "       68, 69, 70, 71, 72, 73, 74, 75, 76, 77, 78, 79, 80, 81, 82, 83, 84,\n",
       "       85, 86, 87, 88, 89, 90, 91, 92, 93, 94, 95, 96, 97, 98, 99]), y=array([[  0.83265074,   1.15971695,   2.79131438,   3.16907355,\n",
       "          3.40894065,   3.56789933,   3.76076328,   2.603746  ,\n",
       "          3.37441906,   3.24397932,   5.06589442,   4.99024395,\n",
       "          5.41116223,   5.65776442,   5.03220738,   6.02434421,\n",
       "          7.92940785,   7.91463063,   7.61415185,   7.25912312,\n",
       "          5.36676122,   5.18894808,   5.4399462 ,   6.49470412,\n",
       "          7.45475186,   7.03825278,   6.76142978,   7.88533509,\n",
       "          7.71187119,   7.20184165,   8.5943601 ,   9.63194577,\n",
       "          9.65073756,   9.05696011,   7.04507979,   7.6347834 ,\n",
       "          6.73841368,   4.77568167,   6.3605022 ,   7.00846999,\n",
       "          5.86946179,   4.65506041,   5.52602219,   4.64805158,\n",
       "          5.94420144,   6.56066076,   7.09725728,   7.50195273,\n",
       "          7.6934036 ,   8.5739148 ,   8.11983444,   8.20578642,\n",
       "          8.957733  ,   9.52072272,   8.32573592,   7.82532625,\n",
       "          8.07812975,   7.67011505,   9.44477361,   9.05162041,\n",
       "          8.88940196,   9.65883214,   9.98936489,   9.84409043,\n",
       "          9.0875969 ,   9.38911096,  10.4282074 ,  10.90730262,\n",
       "         10.1291191 ,  11.86589406,  10.41931617,   8.83663052,\n",
       "          9.79718775,  10.02302823,   9.47352968,   8.37495895,\n",
       "         10.69575879,  10.81284967,  11.34705084,  11.66493593,\n",
       "         12.09974389,  12.63983835,  13.37226236,  12.99703996,\n",
       "         12.70539797,  10.96437517,  10.18407076,  10.45518356,\n",
       "         11.50020693,  12.09924646,  11.75855411,  10.4953812 ,\n",
       "          7.71802206,   8.86975603,   8.28052704,   7.83206204,\n",
       "          7.96363601,   6.55807596,   6.20829378,   8.23176573],\n",
       "       [  0.50538694,   0.8646361 ,  -0.71785838,   1.52574351,\n",
       "          0.1029486 ,   2.02527336,  -0.08978266,   1.31558278,\n",
       "          2.93363705,   2.10922793,   2.5318083 ,   3.07928887,\n",
       "          2.26549439,   0.81637678,  -0.50134056,   0.03966766,\n",
       "         -0.04544795,  -0.60974898,   0.35701903,   0.86508694,\n",
       "          0.10962422,  -1.0915773 ,  -0.56831557,  -1.10589893,\n",
       "         -1.00669407,   0.5696049 ,   1.07193314,   0.20966614,\n",
       "          0.37032733,  -0.58231762,   1.02620453,   0.46462579,\n",
       "          0.67189653,   0.97962911,   1.13887958,  -0.81966938,\n",
       "         -2.26609044,  -2.71844072,  -2.39900889,  -2.5367881 ,\n",
       "         -3.49393557,  -4.84235989,  -5.24391744,  -5.71239348,\n",
       "         -5.19955702,  -5.52587549,  -4.92316783,  -5.5178176 ,\n",
       "         -5.77377527,  -6.12182165,  -6.90418862,  -6.27906996,\n",
       "         -7.09266596,  -7.61430747,  -7.68742711,  -8.98480677,\n",
       "         -9.30974173, -10.02104809, -10.40920228, -10.46913028,\n",
       "        -11.2690439 , -11.48911968, -10.18045093, -10.20624949,\n",
       "         -9.06098732,  -8.71449288,  -7.94033227,  -8.71479123,\n",
       "         -8.60988407,  -8.47597115,  -9.08859689,  -9.91142521,\n",
       "        -11.4016906 ,  -9.90555096, -10.87795385,  -9.53173278,\n",
       "         -9.99922595, -10.86171925, -10.23920011, -10.87039205,\n",
       "        -10.30193313, -10.6347449 , -10.1543204 , -11.12250647,\n",
       "        -10.29115541,  -9.80318272, -10.72283341,  -8.07989769,\n",
       "         -7.53977467,  -5.2493076 ,  -3.64903978,  -3.83787456,\n",
       "         -4.25014631,  -4.6536055 ,  -6.48363405,  -7.17946917,\n",
       "         -6.93270314,  -5.40674558,  -6.17951746,  -5.29746086]]))], scale_x=LinearScale(allow_padding=False, max=1.0, min=0.0), scale_y=LinearScale(allow_padding=False, max=1.0, min=0.0))"
      ]
     },
     "metadata": {},
     "output_type": "display_data"
    }
   ],
   "source": [
    "fig = bq.Figure(marks=[line], axes=[xax, yax], animation_duration=1000, interaction=intsel)\n",
    "display(fig)"
   ]
  },
  {
   "cell_type": "code",
   "execution_count": 17,
   "metadata": {},
   "outputs": [
    {
     "data": {
      "text/plain": [
       "[]"
      ]
     },
     "execution_count": 17,
     "metadata": {},
     "output_type": "execute_result"
    }
   ],
   "source": [
    "line.selected"
   ]
  },
  {
   "cell_type": "markdown",
   "metadata": {},
   "source": [
    "# Handdraw"
   ]
  },
  {
   "cell_type": "code",
   "execution_count": 18,
   "metadata": {},
   "outputs": [],
   "source": [
    "handdraw = bq.interacts.HandDraw(lines=line)\n",
    "fig.interaction = handdraw"
   ]
  },
  {
   "cell_type": "code",
   "execution_count": 19,
   "metadata": {},
   "outputs": [
    {
     "data": {
      "text/plain": [
       "array([  0.83265074,   1.15971695,   2.79131438,   3.16907355,\n",
       "         3.40894065,   3.56789933,   3.76076328,   2.603746  ,\n",
       "         3.37441906,   3.24397932,   5.06589442,   4.99024395,\n",
       "         5.41116223,   5.65776442,   5.03220738,   6.02434421,\n",
       "         7.92940785,   7.91463063,   7.61415185,   7.25912312,\n",
       "         5.36676122,   5.18894808,   5.4399462 ,   6.49470412,\n",
       "         7.45475186,   7.03825278,   6.76142978,   7.88533509,\n",
       "         7.71187119,   7.20184165,   8.5943601 ,   9.63194577,\n",
       "         9.65073756,   9.05696011,   7.04507979,   7.6347834 ,\n",
       "         6.73841368,   4.77568167,   6.3605022 ,   7.00846999,\n",
       "         5.86946179,   4.65506041,   5.52602219,   4.64805158,\n",
       "         5.94420144,   6.56066076,   7.09725728,   7.50195273,\n",
       "         7.6934036 ,   8.5739148 ,   8.11983444,   8.20578642,\n",
       "         8.957733  ,   9.52072272,   8.32573592,   7.82532625,\n",
       "         8.07812975,   7.67011505,   9.44477361,   9.05162041,\n",
       "         8.88940196,   9.65883214,   9.98936489,   9.84409043,\n",
       "         9.0875969 ,   9.38911096,  10.4282074 ,  10.90730262,\n",
       "        10.1291191 ,  11.86589406,  10.41931617,   8.83663052,\n",
       "         9.79718775,  10.02302823,   9.47352968,   8.37495895,\n",
       "        10.69575879,  10.81284967,  11.34705084,  11.66493593,\n",
       "        12.09974389,  12.63983835,  13.37226236,  12.99703996,\n",
       "        12.70539797,  10.96437517,  10.18407076,  10.45518356,\n",
       "        11.50020693,  12.09924646,  11.75855411,  10.4953812 ,\n",
       "         7.71802206,   8.86975603,   8.28052704,   7.83206204,\n",
       "         7.96363601,   6.55807596,   6.20829378,   8.23176573])"
      ]
     },
     "execution_count": 19,
     "metadata": {},
     "output_type": "execute_result"
    }
   ],
   "source": [
    "line.y[0]"
   ]
  },
  {
   "cell_type": "markdown",
   "metadata": {},
   "source": [
    "# Moving points around"
   ]
  },
  {
   "cell_type": "code",
   "execution_count": 20,
   "metadata": {},
   "outputs": [
    {
     "data": {
      "text/plain": [
       "Label(colors=['#1f77b4', '#ff7f0e', '#2ca02c', '#d62728', '#9467bd', '#8c564b', '#e377c2', '#7f7f7f', '#bcbd22', '#17becf'], interactions={'hover': 'tooltip'}, scales_metadata={'x': {'orientation': 'horizontal', 'dimension': 'x'}, 'y': {'orientation': 'vertical', 'dimension': 'y'}, 'color': {'dimension': 'color'}, 'size': {'dimension': 'size'}, 'opacity': {'dimension': 'opacity'}, 'rotation': {'dimension': 'rotation'}}, tooltip_style={'opacity': 0.9})"
      ]
     },
     "metadata": {},
     "output_type": "display_data"
    },
    {
     "data": {
      "application/vnd.jupyter.widget-view+json": {
       "model_id": "ac44c90f608843a895cfb293cf3ac4c2",
       "version_major": 2,
       "version_minor": 0
      },
      "text/html": [
       "<p>Failed to display Jupyter Widget of type <code>Figure</code>.</p>\n",
       "<p>\n",
       "  If you're reading this message in the Jupyter Notebook or JupyterLab Notebook, it may mean\n",
       "  that the widgets JavaScript is still loading. If this message persists, it\n",
       "  likely means that the widgets JavaScript library is either not installed or\n",
       "  not enabled. See the <a href=\"https://ipywidgets.readthedocs.io/en/stable/user_install.html\">Jupyter\n",
       "  Widgets Documentation</a> for setup instructions.\n",
       "</p>\n",
       "<p>\n",
       "  If you're reading this message in another frontend (for example, a static\n",
       "  rendering on GitHub or <a href=\"https://nbviewer.jupyter.org/\">NBViewer</a>),\n",
       "  it may mean that your frontend doesn't currently support widgets.\n",
       "</p>\n"
      ],
      "text/plain": [
       "Figure(axes=[Axis(scale=LinearScale()), Axis(orientation='vertical', scale=LinearScale(), tick_format='0.2f')], fig_margin={'top': 60, 'bottom': 60, 'left': 60, 'right': 60}, layout=Layout(min_width='125px'), marks=[Scatter(colors=['steelblue'], enable_move=True, interactions={'hover': 'tooltip'}, scales={'x': LinearScale(), 'y': LinearScale()}, scales_metadata={'x': {'orientation': 'horizontal', 'dimension': 'x'}, 'y': {'orientation': 'vertical', 'dimension': 'y'}, 'color': {'dimension': 'color'}, 'size': {'dimension': 'size'}, 'opacity': {'dimension': 'opacity'}, 'rotation': {'dimension': 'rotation'}, 'skew': {'dimension': 'skew'}}, tooltip_style={'opacity': 0.9}, update_on_move=True, x=array([0, 1, 2, 3, 4, 5, 6, 7, 8, 9]), y=array([ 176.4052346 ,  216.42095543,  314.29475384,  538.38407376,\n",
       "        725.13987278,  627.41208479,  722.42092654,  707.28520571,\n",
       "        696.96332053,  738.02317073])), Lines(colors=['orange'], interactions={'hover': 'tooltip'}, line_style='dashed', scales={'x': LinearScale(), 'y': LinearScale()}, scales_metadata={'x': {'orientation': 'horizontal', 'dimension': 'x'}, 'y': {'orientation': 'vertical', 'dimension': 'y'}, 'color': {'dimension': 'color'}}, stroke_width=4.0, tooltip_style={'opacity': 0.9}, x=array([0, 9]), y=array([ 546.27495987,  546.27495987]))], scale_x=LinearScale(allow_padding=False, max=1.0, min=0.0), scale_y=LinearScale(allow_padding=False, max=1.0, min=0.0))"
      ]
     },
     "metadata": {},
     "output_type": "display_data"
    }
   ],
   "source": [
    "from bqplot import *\n",
    "\n",
    "size = 100\n",
    "np.random.seed(0)\n",
    "x_data = range(size)\n",
    "y_data = np.cumsum(np.random.randn(size) * 100.0)\n",
    "\n",
    "## Enabling moving of points in scatter. Try to click and drag any of the points in the scatter and \n",
    "## notice the line representing the mean of the data update\n",
    "\n",
    "sc_x = LinearScale()\n",
    "sc_y = LinearScale()\n",
    "\n",
    "scat = Scatter(x=x_data[:10], y=y_data[:10], scales={'x': sc_x, 'y': sc_y}, default_colors=['blue'],\n",
    "               enable_move=True)\n",
    "lin = Lines(scales={'x': sc_x, 'y': sc_y}, stroke_width=4, line_style='dashed', colors=['orange'])\n",
    "m = Label(value='Mean is %s'%np.mean(scat.y))\n",
    "\n",
    "def update_line(change):\n",
    "    with lin.hold_sync():\n",
    "        lin.x = [np.min(scat.x), np.max(scat.x)]\n",
    "        lin.y = [np.mean(scat.y), np.mean(scat.y)]\n",
    "        m.value='Mean is %s'%np.mean(scat.y)\n",
    "        \n",
    "\n",
    "update_line(None)\n",
    "\n",
    "# update line on change of x or y of scatter\n",
    "scat.observe(update_line, names='x')\n",
    "scat.observe(update_line, names='y')\n",
    "\n",
    "ax_x = Axis(scale=sc_x)\n",
    "ax_y = Axis(scale=sc_y, tick_format='0.2f', orientation='vertical')\n",
    "\n",
    "fig = Figure(marks=[scat, lin], axes=[ax_x, ax_y])\n",
    "\n",
    "## In this case on drag, the line updates as you move the points.\n",
    "with scat.hold_sync():\n",
    "    scat.enable_move = True\n",
    "    scat.update_on_move = True\n",
    "    scat.enable_add = False\n",
    "\n",
    "display(m, fig)"
   ]
  }
 ],
 "metadata": {
  "kernelspec": {
   "display_name": "Python 3",
   "language": "python",
   "name": "python3"
  },
  "language_info": {
   "codemirror_mode": {
    "name": "ipython",
    "version": 3
   },
   "file_extension": ".py",
   "mimetype": "text/x-python",
   "name": "python",
   "nbconvert_exporter": "python",
   "pygments_lexer": "ipython3",
   "version": "3.7.3"
  },
  "widgets": {
   "state": {
    "0ba98b0561564e5987dba19d1b574c04": {
     "views": [
      {
       "cell_index": 29
      }
     ]
    },
    "1ffa1ac6658e4eef89e45cf62daae339": {
     "views": [
      {
       "cell_index": 30
      }
     ]
    },
    "42735872becb4c43b817ccff90973d63": {
     "views": [
      {
       "cell_index": 15
      }
     ]
    },
    "4b9a5b18593545faba761a719b2e6039": {
     "views": [
      {
       "cell_index": 17
      }
     ]
    },
    "7fb14b25d15240ec820c565619fe4f11": {
     "views": [
      {
       "cell_index": 7
      }
     ]
    },
    "99604f1b70c54e19a508c95d705ce488": {
     "views": [
      {
       "cell_index": 9
      }
     ]
    },
    "bf805af773d94496888afbe9e2bd3d37": {
     "views": [
      {
       "cell_index": 13
      }
     ]
    },
    "dc1b84a0e5fa4ed5a42454cfc52c44f5": {
     "views": [
      {
       "cell_index": 25
      }
     ]
    },
    "f30275bcf69e426c9d45a525833198d0": {
     "views": [
      {
       "cell_index": 5
      }
     ]
    }
   },
   "version": "2.0.0-dev"
  }
 },
 "nbformat": 4,
 "nbformat_minor": 2
}
